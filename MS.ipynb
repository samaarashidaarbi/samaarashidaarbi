{
  "nbformat": 4,
  "nbformat_minor": 0,
  "metadata": {
    "colab": {
      "provenance": [],
      "gpuType": "T4",
      "authorship_tag": "ABX9TyMMCroTGoPZe+mTL4qH7ZgA",
      "include_colab_link": true
    },
    "kernelspec": {
      "name": "python3",
      "display_name": "Python 3"
    },
    "language_info": {
      "name": "python"
    },
    "accelerator": "GPU"
  },
  "cells": [
    {
      "cell_type": "markdown",
      "metadata": {
        "id": "view-in-github",
        "colab_type": "text"
      },
      "source": [
        "<a href=\"https://colab.research.google.com/github/samaarashidaarbi/samaarashidaarbi/blob/main/Copy_of_Thesis.ipynb\" target=\"_parent\"><img src=\"https://colab.research.google.com/assets/colab-badge.svg\" alt=\"Open In Colab\"/></a>"
      ]
    },
    {
      "cell_type": "code",
      "execution_count": null,
      "metadata": {
        "colab": {
          "base_uri": "https://localhost:8080/"
        },
        "id": "bCHym6k47mR4",
        "outputId": "d9ac405b-1d33-4bca-c1ca-d45081645690"
      },
      "outputs": [
        {
          "output_type": "stream",
          "name": "stdout",
          "text": [
            "Requirement already satisfied: kaggle in /usr/local/lib/python3.10/dist-packages (1.5.16)\n",
            "Requirement already satisfied: six>=1.10 in /usr/local/lib/python3.10/dist-packages (from kaggle) (1.16.0)\n",
            "Requirement already satisfied: certifi in /usr/local/lib/python3.10/dist-packages (from kaggle) (2023.11.17)\n",
            "Requirement already satisfied: python-dateutil in /usr/local/lib/python3.10/dist-packages (from kaggle) (2.8.2)\n",
            "Requirement already satisfied: requests in /usr/local/lib/python3.10/dist-packages (from kaggle) (2.31.0)\n",
            "Requirement already satisfied: tqdm in /usr/local/lib/python3.10/dist-packages (from kaggle) (4.66.1)\n",
            "Requirement already satisfied: python-slugify in /usr/local/lib/python3.10/dist-packages (from kaggle) (8.0.1)\n",
            "Requirement already satisfied: urllib3 in /usr/local/lib/python3.10/dist-packages (from kaggle) (2.0.7)\n",
            "Requirement already satisfied: bleach in /usr/local/lib/python3.10/dist-packages (from kaggle) (6.1.0)\n",
            "Requirement already satisfied: webencodings in /usr/local/lib/python3.10/dist-packages (from bleach->kaggle) (0.5.1)\n",
            "Requirement already satisfied: text-unidecode>=1.3 in /usr/local/lib/python3.10/dist-packages (from python-slugify->kaggle) (1.3)\n",
            "Requirement already satisfied: charset-normalizer<4,>=2 in /usr/local/lib/python3.10/dist-packages (from requests->kaggle) (3.3.2)\n",
            "Requirement already satisfied: idna<4,>=2.5 in /usr/local/lib/python3.10/dist-packages (from requests->kaggle) (3.6)\n"
          ]
        }
      ],
      "source": [
        "!pip install kaggle"
      ]
    },
    {
      "cell_type": "code",
      "source": [
        "from google.colab import files\n",
        "\n",
        "# Upload kaggle.json\n",
        "files.upload()"
      ],
      "metadata": {
        "colab": {
          "base_uri": "https://localhost:8080/",
          "height": 91
        },
        "id": "0evaPEB17x4f",
        "outputId": "8986c7c8-0c65-4a61-acc0-cf3f9b242f2e"
      },
      "execution_count": null,
      "outputs": [
        {
          "output_type": "display_data",
          "data": {
            "text/plain": [
              "<IPython.core.display.HTML object>"
            ],
            "text/html": [
              "\n",
              "     <input type=\"file\" id=\"files-2d97a15f-66ef-4321-b1c2-422df9b723ab\" name=\"files[]\" multiple disabled\n",
              "        style=\"border:none\" />\n",
              "     <output id=\"result-2d97a15f-66ef-4321-b1c2-422df9b723ab\">\n",
              "      Upload widget is only available when the cell has been executed in the\n",
              "      current browser session. Please rerun this cell to enable.\n",
              "      </output>\n",
              "      <script>// Copyright 2017 Google LLC\n",
              "//\n",
              "// Licensed under the Apache License, Version 2.0 (the \"License\");\n",
              "// you may not use this file except in compliance with the License.\n",
              "// You may obtain a copy of the License at\n",
              "//\n",
              "//      http://www.apache.org/licenses/LICENSE-2.0\n",
              "//\n",
              "// Unless required by applicable law or agreed to in writing, software\n",
              "// distributed under the License is distributed on an \"AS IS\" BASIS,\n",
              "// WITHOUT WARRANTIES OR CONDITIONS OF ANY KIND, either express or implied.\n",
              "// See the License for the specific language governing permissions and\n",
              "// limitations under the License.\n",
              "\n",
              "/**\n",
              " * @fileoverview Helpers for google.colab Python module.\n",
              " */\n",
              "(function(scope) {\n",
              "function span(text, styleAttributes = {}) {\n",
              "  const element = document.createElement('span');\n",
              "  element.textContent = text;\n",
              "  for (const key of Object.keys(styleAttributes)) {\n",
              "    element.style[key] = styleAttributes[key];\n",
              "  }\n",
              "  return element;\n",
              "}\n",
              "\n",
              "// Max number of bytes which will be uploaded at a time.\n",
              "const MAX_PAYLOAD_SIZE = 100 * 1024;\n",
              "\n",
              "function _uploadFiles(inputId, outputId) {\n",
              "  const steps = uploadFilesStep(inputId, outputId);\n",
              "  const outputElement = document.getElementById(outputId);\n",
              "  // Cache steps on the outputElement to make it available for the next call\n",
              "  // to uploadFilesContinue from Python.\n",
              "  outputElement.steps = steps;\n",
              "\n",
              "  return _uploadFilesContinue(outputId);\n",
              "}\n",
              "\n",
              "// This is roughly an async generator (not supported in the browser yet),\n",
              "// where there are multiple asynchronous steps and the Python side is going\n",
              "// to poll for completion of each step.\n",
              "// This uses a Promise to block the python side on completion of each step,\n",
              "// then passes the result of the previous step as the input to the next step.\n",
              "function _uploadFilesContinue(outputId) {\n",
              "  const outputElement = document.getElementById(outputId);\n",
              "  const steps = outputElement.steps;\n",
              "\n",
              "  const next = steps.next(outputElement.lastPromiseValue);\n",
              "  return Promise.resolve(next.value.promise).then((value) => {\n",
              "    // Cache the last promise value to make it available to the next\n",
              "    // step of the generator.\n",
              "    outputElement.lastPromiseValue = value;\n",
              "    return next.value.response;\n",
              "  });\n",
              "}\n",
              "\n",
              "/**\n",
              " * Generator function which is called between each async step of the upload\n",
              " * process.\n",
              " * @param {string} inputId Element ID of the input file picker element.\n",
              " * @param {string} outputId Element ID of the output display.\n",
              " * @return {!Iterable<!Object>} Iterable of next steps.\n",
              " */\n",
              "function* uploadFilesStep(inputId, outputId) {\n",
              "  const inputElement = document.getElementById(inputId);\n",
              "  inputElement.disabled = false;\n",
              "\n",
              "  const outputElement = document.getElementById(outputId);\n",
              "  outputElement.innerHTML = '';\n",
              "\n",
              "  const pickedPromise = new Promise((resolve) => {\n",
              "    inputElement.addEventListener('change', (e) => {\n",
              "      resolve(e.target.files);\n",
              "    });\n",
              "  });\n",
              "\n",
              "  const cancel = document.createElement('button');\n",
              "  inputElement.parentElement.appendChild(cancel);\n",
              "  cancel.textContent = 'Cancel upload';\n",
              "  const cancelPromise = new Promise((resolve) => {\n",
              "    cancel.onclick = () => {\n",
              "      resolve(null);\n",
              "    };\n",
              "  });\n",
              "\n",
              "  // Wait for the user to pick the files.\n",
              "  const files = yield {\n",
              "    promise: Promise.race([pickedPromise, cancelPromise]),\n",
              "    response: {\n",
              "      action: 'starting',\n",
              "    }\n",
              "  };\n",
              "\n",
              "  cancel.remove();\n",
              "\n",
              "  // Disable the input element since further picks are not allowed.\n",
              "  inputElement.disabled = true;\n",
              "\n",
              "  if (!files) {\n",
              "    return {\n",
              "      response: {\n",
              "        action: 'complete',\n",
              "      }\n",
              "    };\n",
              "  }\n",
              "\n",
              "  for (const file of files) {\n",
              "    const li = document.createElement('li');\n",
              "    li.append(span(file.name, {fontWeight: 'bold'}));\n",
              "    li.append(span(\n",
              "        `(${file.type || 'n/a'}) - ${file.size} bytes, ` +\n",
              "        `last modified: ${\n",
              "            file.lastModifiedDate ? file.lastModifiedDate.toLocaleDateString() :\n",
              "                                    'n/a'} - `));\n",
              "    const percent = span('0% done');\n",
              "    li.appendChild(percent);\n",
              "\n",
              "    outputElement.appendChild(li);\n",
              "\n",
              "    const fileDataPromise = new Promise((resolve) => {\n",
              "      const reader = new FileReader();\n",
              "      reader.onload = (e) => {\n",
              "        resolve(e.target.result);\n",
              "      };\n",
              "      reader.readAsArrayBuffer(file);\n",
              "    });\n",
              "    // Wait for the data to be ready.\n",
              "    let fileData = yield {\n",
              "      promise: fileDataPromise,\n",
              "      response: {\n",
              "        action: 'continue',\n",
              "      }\n",
              "    };\n",
              "\n",
              "    // Use a chunked sending to avoid message size limits. See b/62115660.\n",
              "    let position = 0;\n",
              "    do {\n",
              "      const length = Math.min(fileData.byteLength - position, MAX_PAYLOAD_SIZE);\n",
              "      const chunk = new Uint8Array(fileData, position, length);\n",
              "      position += length;\n",
              "\n",
              "      const base64 = btoa(String.fromCharCode.apply(null, chunk));\n",
              "      yield {\n",
              "        response: {\n",
              "          action: 'append',\n",
              "          file: file.name,\n",
              "          data: base64,\n",
              "        },\n",
              "      };\n",
              "\n",
              "      let percentDone = fileData.byteLength === 0 ?\n",
              "          100 :\n",
              "          Math.round((position / fileData.byteLength) * 100);\n",
              "      percent.textContent = `${percentDone}% done`;\n",
              "\n",
              "    } while (position < fileData.byteLength);\n",
              "  }\n",
              "\n",
              "  // All done.\n",
              "  yield {\n",
              "    response: {\n",
              "      action: 'complete',\n",
              "    }\n",
              "  };\n",
              "}\n",
              "\n",
              "scope.google = scope.google || {};\n",
              "scope.google.colab = scope.google.colab || {};\n",
              "scope.google.colab._files = {\n",
              "  _uploadFiles,\n",
              "  _uploadFilesContinue,\n",
              "};\n",
              "})(self);\n",
              "</script> "
            ]
          },
          "metadata": {}
        },
        {
          "output_type": "stream",
          "name": "stdout",
          "text": [
            "Saving kaggle.json to kaggle.json\n"
          ]
        },
        {
          "output_type": "execute_result",
          "data": {
            "text/plain": [
              "{'kaggle.json': b'{\"username\":\"samaarashidaarbi\",\"key\":\"fce7cb958722a3fd9a6af30156025766\"}'}"
            ]
          },
          "metadata": {},
          "execution_count": 3
        }
      ]
    },
    {
      "cell_type": "code",
      "source": [
        "# Move kaggle.json to the correct location\n",
        "!mkdir -p ~/.kaggle\n",
        "!mv kaggle.json ~/.kaggle/\n",
        "!chmod 600 ~/.kaggle/kaggle.json\n"
      ],
      "metadata": {
        "id": "M_1SgLg473qj"
      },
      "execution_count": null,
      "outputs": []
    },
    {
      "cell_type": "code",
      "source": [
        "!kaggle datasets download -d samaarashidaarbi/present-dataset"
      ],
      "metadata": {
        "colab": {
          "base_uri": "https://localhost:8080/"
        },
        "id": "SXHQuXyafEN1",
        "outputId": "9dfd8b51-5b00-4a80-e9c3-85986fe308d1"
      },
      "execution_count": null,
      "outputs": [
        {
          "output_type": "stream",
          "name": "stdout",
          "text": [
            "Downloading present-dataset.zip to /content\n",
            " 98% 80.0M/81.4M [00:04<00:00, 27.0MB/s]\n",
            "100% 81.4M/81.4M [00:04<00:00, 19.9MB/s]\n"
          ]
        }
      ]
    },
    {
      "cell_type": "code",
      "source": [
        "!kaggle datasets download -d samaarashidaarbi/dataset"
      ],
      "metadata": {
        "colab": {
          "base_uri": "https://localhost:8080/"
        },
        "id": "tgh8ecMh-ItG",
        "outputId": "4247a87c-54ce-430c-8503-3e4062f1144e"
      },
      "execution_count": null,
      "outputs": [
        {
          "output_type": "stream",
          "name": "stdout",
          "text": [
            "Downloading dataset.zip to /content\n",
            "100% 201M/201M [00:08<00:00, 28.4MB/s]\n",
            "100% 201M/201M [00:08<00:00, 23.7MB/s]\n"
          ]
        }
      ]
    },
    {
      "cell_type": "code",
      "source": [
        "import zipfile\n",
        "import os\n",
        "\n",
        "# Unzip positive dataset\n",
        "with zipfile.ZipFile('present-dataset.zip', 'r') as zip_ref:\n",
        "    zip_ref.extractall('/content/positive')\n",
        "\n",
        "# Unzip negative dataset\n",
        "with zipfile.ZipFile('dataset.zip', 'r') as zip_ref:\n",
        "    zip_ref.extractall('/content/negative')"
      ],
      "metadata": {
        "id": "gtAiP_Cq_Qwo"
      },
      "execution_count": null,
      "outputs": []
    },
    {
      "cell_type": "code",
      "source": [
        "# List files in positive dataset\n",
        "print(\"Files in positive dataset:\")\n",
        "print(os.listdir('/content/positive'))\n",
        "\n",
        "# List files in negative dataset\n",
        "print(\"\\nFiles in negative dataset:\")\n",
        "print(os.listdir('/content/negative'))"
      ],
      "metadata": {
        "colab": {
          "base_uri": "https://localhost:8080/"
        },
        "id": "eVm5YI0c_bLc",
        "outputId": "a9cfc9af-ca1a-48be-dbfb-240cad411531"
      },
      "execution_count": null,
      "outputs": [
        {
          "output_type": "stream",
          "name": "stdout",
          "text": [
            "Files in positive dataset:\n",
            "['IMG_1890.JPG', 'IMG_9605.JPG', 'IMG_0491.JPG', 'IMG_0949.JPG', 'IMG_8552.JPG', 'IMG_0067.JPG', 'IMG_1336.JPG', 'IMG_9418.JPG', 'IMG_8803.JPG', 'IMG_8063.JPG', 'IMG_2885.JPG', 'IMG_3022.JPG', 'IMG_0105.JPG', 'IMG_9784.JPG', 'IMG_2781.JPG', 'IMG_8442.JPG', 'IMG_1486.JPG', 'IMG_7364.JPG', 'IMG_0866.JPG', 'IMG_0475.JPG', 'IMG_1964.JPG', 'IMG_2876.JPG', 'IMG_7384.JPG', 'IMG_0895.JPG', 'IMG_0003.JPG', 'IMG_9550.JPG', 'IMG_1955.JPG', 'IMG_9649.JPG', 'IMG_2075.JPG', 'IMG_1524.JPG', 'IMG_2750.JPG', 'IMG_8779.JPG', 'IMG_9575.JPG', 'IMG_8642.JPG', 'IMG_0418.JPG', 'IMG_0940.JPG', 'IMG_0833.JPG', 'IMG_1445.JPG', 'IMG_0060.JPG', 'IMG_9712.JPG', 'IMG_1285.JPG', 'IMG_7407.JPG', 'IMG_9458.JPG', 'IMG_9567.JPG', 'IMG_0724.JPG', 'IMG_2022.JPG', 'IMG_7969.JPG', 'IMG_2911.JPG', 'IMG_0129.JPG', 'IMG_1264.JPG', 'IMG_8826.JPG', 'IMG_8797.JPG', 'IMG_0759.JPG', 'IMG_9799.JPG', 'IMG_1621.JPG', 'IMG_7597.JPG', 'IMG_0960.JPG', 'IMG_2148.JPG', 'IMG_0043.JPG', 'IMG_9524.JPG', 'IMG_2009.JPG', 'IMG_0444.JPG', 'IMG_8082.JPG', 'IMG_1187.JPG', 'IMG_2832.JPG', 'IMG_2697.JPG', 'IMG_1869.JPG', 'IMG_8458.JPG', 'IMG_3115.JPG', 'IMG_9708.JPG', 'IMG_2090.JPG', 'IMG_8017.JPG', 'IMG_1226.JPG', 'IMG_0393.JPG', 'IMG_3173.JPG', 'IMG_8892.JPG', 'IMG_1828.JPG', 'IMG_8851.JPG', 'IMG_1447.JPG', 'IMG_0397.JPG', 'IMG_1602.JPG', 'IMG_7446.JPG', 'IMG_1281.JPG', 'IMG_1442.JPG', 'IMG_1959.JPG', 'IMG_3049.JPG', 'IMG_0855.JPG', 'IMG_9498.JPG', 'IMG_9449.JPG', 'IMG_8098.JPG', 'IMG_8467.JPG', 'IMG_1254.JPG', 'IMG_8682.JPG', 'IMG_2060.JPG', 'IMG_1223.JPG', 'IMG_7619.JPG', 'IMG_8021.JPG', 'IMG_1231.JPG', 'IMG_8596.JPG', 'IMG_8404.JPG']\n",
            "\n",
            "Files in negative dataset:\n",
            "['Lactobacillus.crispatus_0013.jpg', 'Staphylococcus.saprophiticus_0004.jpg', 'Lactobacillus.jehnsenii_0015.jpg', 'Staphylococcus.aureus_0001.jpg', 'Proteus_0006.jpg', 'Lactobacillus.johnsonii_0012.jpg', 'Lactobacillus.salivarius_0015.jpg', 'Actinomyces.israeli_0014.jpg', 'Proteus_0003.jpg', 'Lactobacillus.reuteri_0010.jpg', 'Fusobacterium_0013.jpg', 'Enterococcus.faecium_0002.jpg', 'Listeria.monocytogenes_0012.jpg', 'Lactobacillus.rhamnosus_0014.jpg', 'Enterococcus.faecalis_0015.jpg', 'Lactobacillus.salivarius_0002.jpg', 'Lactobacillus.plantarum_0014.jpg', 'Lactobacillus.delbrueckii_0015.jpg', 'Bacteroides.fragilis_0003.jpg', 'Propionibacterium.acnes_0021.jpg', 'Veionella_0003.jpg', 'Bacteroides.fragilis_0008.jpg', 'Lactobacillus.paracasei_0008.jpg', 'Staphylococcus.aureus_0009.jpg', 'Enterococcus.faecium_0008.jpg', 'Lactobacillus.gasseri_0006.jpg', 'Staphylococcus.saprophiticus_0019.jpg', 'Lactobacillus.gasseri_0008.jpg', 'Lactobacillus.casei_0003.jpg', 'Lactobacillus.rhamnosus_0009.jpg', 'Lactobacillus.jehnsenii_0003.jpg', 'Bifidobacterium.spp_0001.jpg', 'Pseudomonas.aeruginosa_0017.jpg', 'Lactobacillus.casei_0009.jpg', 'Micrococcus.spp_0008.jpg', 'Candida.albicans_0003.jpg', 'Clostridium.perfringens_0015.jpg', 'Fusobacterium_0001.jpg', 'Clostridium.perfringens_0003.jpg', 'Staphylococcus.saprophiticus_0012.jpg', 'Acinetobacter.baumanii_0008.jpg', 'Propionibacterium.acnes_0009.jpg', 'Lactobacillus.casei_0013.jpg', 'Escherichia.coli_0002.jpg', 'Lactobacillus.paracasei_0017.jpg', 'Porfyromonas.gingivalis_0010.jpg', 'Bifidobacterium.spp_0007.jpg', 'Neisseria.gonorrhoeae_0001.jpg', 'Actinomyces.israeli_0008.jpg', 'Enterococcus.faecium_0015.jpg', 'Streptococcus.agalactiae_0006.jpg', 'Lactobacillus.reuteri_0002.jpg', 'Lactobacillus.crispatus_0007.jpg', 'Escherichia.coli_0016.jpg', 'Staphylococcus.epidermidis_0017.jpg', 'Lactobacillus.jehnsenii_0008.jpg', 'Lactobacillus.johnsonii_0001.jpg', 'Porfyromonas.gingivalis_0020.jpg', 'Lactobacillus.salivarius_0020.jpg', 'Propionibacterium.acnes_0001.jpg', 'Proteus_0018.jpg', 'Lactobacillus.paracasei_0002.jpg', 'Streptococcus.agalactiae_0017.jpg', 'Enterococcus.faecalis_0010.jpg', 'Lactobacillus.delbrueckii_0004.jpg', 'Lactobacillus.salivarius_0008.jpg', 'Lactobacillus.reuteri_0020.jpg', 'Micrococcus.spp_0002.jpg', 'Lactobacillus.crispatus_0003.jpg', 'Candida.albicans_0014.jpg', 'Lactobacillus.plantarum_0003.jpg', 'Micrococcus.spp_0015.jpg', 'Bacteroides.fragilis_0015.jpg', 'Porfyromonas.gingivalis_0002.jpg', 'Bifidobacterium.spp_0012.jpg', 'Staphylococcus.aureus_0018.jpg', 'Lactobacillus.gasseri_0001.jpg', 'Acinetobacter.baumanii_0011.jpg', 'Lactobacillus.plantarum_0008.jpg', 'Fusobacterium_0005.jpg', 'Pseudomonas.aeruginosa_0002.jpg', 'Listeria.monocytogenes_0006.jpg', 'Veionella_0009.jpg', 'Lactobacillus.delbrueckii_0008.jpg', 'Escherichia.coli_0010.jpg', 'Clostridium.perfringens_0009.jpg', 'Lactobacillus.johnsonii_0007.jpg', 'Lactobacillus.reuteri_0017.jpg', 'Actinomyces.israeli_0003.jpg', 'Enterococcus.faecalis_0003.jpg', 'Neisseria.gonorrhoeae_0020.jpg', 'Neisseria.gonorrhoeae_0008.jpg', 'Staphylococcus.epidermidis_0011.jpg', 'Streptococcus.agalactiae_0011.jpg', 'Listeria.monocytogenes_0020.jpg', 'Acinetobacter.baumanii_0002.jpg', 'Staphylococcus.epidermidis_0004.jpg', 'Pseudomonas.aeruginosa_0012.jpg', 'Veionella_0018.jpg', 'Lactobacillus.rhamnosus_0004.jpg']\n"
          ]
        }
      ]
    },
    {
      "cell_type": "code",
      "source": [
        "import os\n",
        "\n",
        "# List files in positive dataset\n",
        "print(\"Files in positive dataset:\")\n",
        "positive_files = os.listdir('/content/positive')\n",
        "print(positive_files)\n",
        "\n",
        "# Display the first few files in positive dataset\n",
        "print(\"\\nFirst few files in positive dataset:\")\n",
        "for file in positive_files[:5]:\n",
        "    print(file)\n",
        "\n",
        "# List files in negative dataset\n",
        "print(\"\\nFiles in negative dataset:\")\n",
        "negative_files = os.listdir('/content/negative')\n",
        "print(negative_files)\n",
        "\n",
        "# Display the first few files in negative dataset\n",
        "print(\"\\nFirst few files in negative dataset:\")\n",
        "for file in negative_files[:5]:\n",
        "    print(file)\n"
      ],
      "metadata": {
        "colab": {
          "base_uri": "https://localhost:8080/"
        },
        "id": "g4-tZZ1mAERs",
        "outputId": "4048e8cf-8e19-4ed7-f9a6-38762201ad9a"
      },
      "execution_count": null,
      "outputs": [
        {
          "output_type": "stream",
          "name": "stdout",
          "text": [
            "Files in positive dataset:\n",
            "['IMG_1890.JPG', 'IMG_9605.JPG', 'IMG_0491.JPG', 'IMG_0949.JPG', 'IMG_8552.JPG', 'IMG_0067.JPG', 'IMG_1336.JPG', 'IMG_9418.JPG', 'IMG_8803.JPG', 'IMG_8063.JPG', 'IMG_2885.JPG', 'IMG_3022.JPG', 'IMG_0105.JPG', 'IMG_9784.JPG', 'IMG_2781.JPG', 'IMG_8442.JPG', 'IMG_1486.JPG', 'IMG_7364.JPG', 'IMG_0866.JPG', 'IMG_0475.JPG', 'IMG_1964.JPG', 'IMG_2876.JPG', 'IMG_7384.JPG', 'IMG_0895.JPG', 'IMG_0003.JPG', 'IMG_9550.JPG', 'IMG_1955.JPG', 'IMG_9649.JPG', 'IMG_2075.JPG', 'IMG_1524.JPG', 'IMG_2750.JPG', 'IMG_8779.JPG', 'IMG_9575.JPG', 'IMG_8642.JPG', 'IMG_0418.JPG', 'IMG_0940.JPG', 'IMG_0833.JPG', 'IMG_1445.JPG', 'IMG_0060.JPG', 'IMG_9712.JPG', 'IMG_1285.JPG', 'IMG_7407.JPG', 'IMG_9458.JPG', 'IMG_9567.JPG', 'IMG_0724.JPG', 'IMG_2022.JPG', 'IMG_7969.JPG', 'IMG_2911.JPG', 'IMG_0129.JPG', 'IMG_1264.JPG', 'IMG_8826.JPG', 'IMG_8797.JPG', 'IMG_0759.JPG', 'IMG_9799.JPG', 'IMG_1621.JPG', 'IMG_7597.JPG', 'IMG_0960.JPG', 'IMG_2148.JPG', 'IMG_0043.JPG', 'IMG_9524.JPG', 'IMG_2009.JPG', 'IMG_0444.JPG', 'IMG_8082.JPG', 'IMG_1187.JPG', 'IMG_2832.JPG', 'IMG_2697.JPG', 'IMG_1869.JPG', 'IMG_8458.JPG', 'IMG_3115.JPG', 'IMG_9708.JPG', 'IMG_2090.JPG', 'IMG_8017.JPG', 'IMG_1226.JPG', 'IMG_0393.JPG', 'IMG_3173.JPG', 'IMG_8892.JPG', 'IMG_1828.JPG', 'IMG_8851.JPG', 'IMG_1447.JPG', 'IMG_0397.JPG', 'IMG_1602.JPG', 'IMG_7446.JPG', 'IMG_1281.JPG', 'IMG_1442.JPG', 'IMG_1959.JPG', 'IMG_3049.JPG', 'IMG_0855.JPG', 'IMG_9498.JPG', 'IMG_9449.JPG', 'IMG_8098.JPG', 'IMG_8467.JPG', 'IMG_1254.JPG', 'IMG_8682.JPG', 'IMG_2060.JPG', 'IMG_1223.JPG', 'IMG_7619.JPG', 'IMG_8021.JPG', 'IMG_1231.JPG', 'IMG_8596.JPG', 'IMG_8404.JPG']\n",
            "\n",
            "First few files in positive dataset:\n",
            "IMG_1890.JPG\n",
            "IMG_9605.JPG\n",
            "IMG_0491.JPG\n",
            "IMG_0949.JPG\n",
            "IMG_8552.JPG\n",
            "\n",
            "Files in negative dataset:\n",
            "['Lactobacillus.crispatus_0013.jpg', 'Staphylococcus.saprophiticus_0004.jpg', 'Lactobacillus.jehnsenii_0015.jpg', 'Staphylococcus.aureus_0001.jpg', 'Proteus_0006.jpg', 'Lactobacillus.johnsonii_0012.jpg', 'Lactobacillus.salivarius_0015.jpg', 'Actinomyces.israeli_0014.jpg', 'Proteus_0003.jpg', 'Lactobacillus.reuteri_0010.jpg', 'Fusobacterium_0013.jpg', 'Enterococcus.faecium_0002.jpg', 'Listeria.monocytogenes_0012.jpg', 'Lactobacillus.rhamnosus_0014.jpg', 'Enterococcus.faecalis_0015.jpg', 'Lactobacillus.salivarius_0002.jpg', 'Lactobacillus.plantarum_0014.jpg', 'Lactobacillus.delbrueckii_0015.jpg', 'Bacteroides.fragilis_0003.jpg', 'Propionibacterium.acnes_0021.jpg', 'Veionella_0003.jpg', 'Bacteroides.fragilis_0008.jpg', 'Lactobacillus.paracasei_0008.jpg', 'Staphylococcus.aureus_0009.jpg', 'Enterococcus.faecium_0008.jpg', 'Lactobacillus.gasseri_0006.jpg', 'Staphylococcus.saprophiticus_0019.jpg', 'Lactobacillus.gasseri_0008.jpg', 'Lactobacillus.casei_0003.jpg', 'Lactobacillus.rhamnosus_0009.jpg', 'Lactobacillus.jehnsenii_0003.jpg', 'Bifidobacterium.spp_0001.jpg', 'Pseudomonas.aeruginosa_0017.jpg', 'Lactobacillus.casei_0009.jpg', 'Micrococcus.spp_0008.jpg', 'Candida.albicans_0003.jpg', 'Clostridium.perfringens_0015.jpg', 'Fusobacterium_0001.jpg', 'Clostridium.perfringens_0003.jpg', 'Staphylococcus.saprophiticus_0012.jpg', 'Acinetobacter.baumanii_0008.jpg', 'Propionibacterium.acnes_0009.jpg', 'Lactobacillus.casei_0013.jpg', 'Escherichia.coli_0002.jpg', 'Lactobacillus.paracasei_0017.jpg', 'Porfyromonas.gingivalis_0010.jpg', 'Bifidobacterium.spp_0007.jpg', 'Neisseria.gonorrhoeae_0001.jpg', 'Actinomyces.israeli_0008.jpg', 'Enterococcus.faecium_0015.jpg', 'Streptococcus.agalactiae_0006.jpg', 'Lactobacillus.reuteri_0002.jpg', 'Lactobacillus.crispatus_0007.jpg', 'Escherichia.coli_0016.jpg', 'Staphylococcus.epidermidis_0017.jpg', 'Lactobacillus.jehnsenii_0008.jpg', 'Lactobacillus.johnsonii_0001.jpg', 'Porfyromonas.gingivalis_0020.jpg', 'Lactobacillus.salivarius_0020.jpg', 'Propionibacterium.acnes_0001.jpg', 'Proteus_0018.jpg', 'Lactobacillus.paracasei_0002.jpg', 'Streptococcus.agalactiae_0017.jpg', 'Enterococcus.faecalis_0010.jpg', 'Lactobacillus.delbrueckii_0004.jpg', 'Lactobacillus.salivarius_0008.jpg', 'Lactobacillus.reuteri_0020.jpg', 'Micrococcus.spp_0002.jpg', 'Lactobacillus.crispatus_0003.jpg', 'Candida.albicans_0014.jpg', 'Lactobacillus.plantarum_0003.jpg', 'Micrococcus.spp_0015.jpg', 'Bacteroides.fragilis_0015.jpg', 'Porfyromonas.gingivalis_0002.jpg', 'Bifidobacterium.spp_0012.jpg', 'Staphylococcus.aureus_0018.jpg', 'Lactobacillus.gasseri_0001.jpg', 'Acinetobacter.baumanii_0011.jpg', 'Lactobacillus.plantarum_0008.jpg', 'Fusobacterium_0005.jpg', 'Pseudomonas.aeruginosa_0002.jpg', 'Listeria.monocytogenes_0006.jpg', 'Veionella_0009.jpg', 'Lactobacillus.delbrueckii_0008.jpg', 'Escherichia.coli_0010.jpg', 'Clostridium.perfringens_0009.jpg', 'Lactobacillus.johnsonii_0007.jpg', 'Lactobacillus.reuteri_0017.jpg', 'Actinomyces.israeli_0003.jpg', 'Enterococcus.faecalis_0003.jpg', 'Neisseria.gonorrhoeae_0020.jpg', 'Neisseria.gonorrhoeae_0008.jpg', 'Staphylococcus.epidermidis_0011.jpg', 'Streptococcus.agalactiae_0011.jpg', 'Listeria.monocytogenes_0020.jpg', 'Acinetobacter.baumanii_0002.jpg', 'Staphylococcus.epidermidis_0004.jpg', 'Pseudomonas.aeruginosa_0012.jpg', 'Veionella_0018.jpg', 'Lactobacillus.rhamnosus_0004.jpg']\n",
            "\n",
            "First few files in negative dataset:\n",
            "Lactobacillus.crispatus_0013.jpg\n",
            "Staphylococcus.saprophiticus_0004.jpg\n",
            "Lactobacillus.jehnsenii_0015.jpg\n",
            "Staphylococcus.aureus_0001.jpg\n",
            "Proteus_0006.jpg\n"
          ]
        }
      ]
    },
    {
      "cell_type": "code",
      "source": [
        "# Creating a list of tuples (filename, label) for the positive dataset\n",
        "positive_files_with_labels = [(file, 'positive') for file in positive_files]\n",
        "\n",
        "# Creating a list of tuples (filename, label) for the negative dataset\n",
        "negative_files_with_labels = [(file, 'negative') for file in negative_files]\n",
        "\n",
        "# Combine both lists\n",
        "all_files_with_labels = positive_files_with_labels + negative_files_with_labels\n",
        "\n",
        "# Display the first few tuples\n",
        "print(\"First few tuples (filename, label):\")\n",
        "for item in all_files_with_labels[:5]:\n",
        "    print(item)"
      ],
      "metadata": {
        "colab": {
          "base_uri": "https://localhost:8080/"
        },
        "id": "OsXGDBmkAbAi",
        "outputId": "e9c827a4-623e-4af7-c59b-358cec13d89c"
      },
      "execution_count": null,
      "outputs": [
        {
          "output_type": "stream",
          "name": "stdout",
          "text": [
            "First few tuples (filename, label):\n",
            "('IMG_1890.JPG', 'positive')\n",
            "('IMG_9605.JPG', 'positive')\n",
            "('IMG_0491.JPG', 'positive')\n",
            "('IMG_0949.JPG', 'positive')\n",
            "('IMG_8552.JPG', 'positive')\n"
          ]
        }
      ]
    },
    {
      "cell_type": "code",
      "source": [
        "# Combine both lists into a single list\n",
        "all_files_with_labels = positive_files_with_labels + negative_files_with_labels\n",
        "\n",
        "# Display the first few tuples in the combined list\n",
        "print(\"First few tuples (filename, label) in the combined list:\")\n",
        "for item in all_files_with_labels[:5]:\n",
        "    print(item)\n"
      ],
      "metadata": {
        "colab": {
          "base_uri": "https://localhost:8080/"
        },
        "id": "7gCDdpo7AtTG",
        "outputId": "039776e4-4b51-4f28-d48e-e1993a81a85e"
      },
      "execution_count": null,
      "outputs": [
        {
          "output_type": "stream",
          "name": "stdout",
          "text": [
            "First few tuples (filename, label) in the combined list:\n",
            "('IMG_1890.JPG', 'positive')\n",
            "('IMG_9605.JPG', 'positive')\n",
            "('IMG_0491.JPG', 'positive')\n",
            "('IMG_0949.JPG', 'positive')\n",
            "('IMG_8552.JPG', 'positive')\n"
          ]
        }
      ]
    },
    {
      "cell_type": "code",
      "source": [
        "from collections import Counter\n",
        "\n",
        "# Create a Counter object from the labels in the list of tuples\n",
        "label_counts = Counter(label for _, label in all_files_with_labels)\n",
        "\n",
        "# Display the value counts\n",
        "print(\"Value counts of labels:\")\n",
        "for label, count in label_counts.items():\n",
        "    print(f\"{label}: {count} files\")\n"
      ],
      "metadata": {
        "colab": {
          "base_uri": "https://localhost:8080/"
        },
        "id": "cFlqeh2gA8iS",
        "outputId": "650d3f86-3dac-4b11-b8e4-28b02a7fe84d"
      },
      "execution_count": null,
      "outputs": [
        {
          "output_type": "stream",
          "name": "stdout",
          "text": [
            "Value counts of labels:\n",
            "positive: 100 files\n",
            "negative: 100 files\n"
          ]
        }
      ]
    },
    {
      "cell_type": "code",
      "source": [
        "import cv2\n",
        "import numpy as np\n",
        "import os\n",
        "\n",
        "# Function to split an image into a specified number of patches\n",
        "def split_image(image, num_patches):\n",
        "    height, width = image.shape[:2]\n",
        "\n",
        "    # Calculate the dimensions for each patch\n",
        "    patch_height = height // int(np.sqrt(num_patches))\n",
        "    patch_width = width // int(np.sqrt(num_patches))\n",
        "\n",
        "    patches = []\n",
        "\n",
        "    # Split the image into patches\n",
        "    for i in range(int(np.sqrt(num_patches))):\n",
        "        for j in range(int(np.sqrt(num_patches))):\n",
        "            patch = image[i * patch_height : (i + 1) * patch_height, j * patch_width : (j + 1) * patch_width]\n",
        "            patches.append(patch)\n",
        "\n",
        "    return patches\n",
        "\n",
        "# Directory to store the patches\n",
        "output_dir = '/content/patches'\n",
        "os.makedirs(output_dir, exist_ok=True)\n",
        "\n",
        "# Process each image and save patches\n",
        "for filename, label in all_files_with_labels:\n",
        "    # Load the original image\n",
        "    original_image = cv2.imread(os.path.join('/content', label, filename))\n",
        "\n",
        "    # Split the image into 16 patches\n",
        "    patches = split_image(original_image, num_patches=16)\n",
        "\n",
        "    # Save each patch\n",
        "    for i, patch in enumerate(patches):\n",
        "        patch_filename = f\"{os.path.splitext(filename)[0]}_patch{i+1}.jpg\"\n",
        "        cv2.imwrite(os.path.join(output_dir, patch_filename), patch)"
      ],
      "metadata": {
        "id": "K_RAoP5XULIF"
      },
      "execution_count": null,
      "outputs": []
    },
    {
      "cell_type": "code",
      "source": [
        "import matplotlib.pyplot as plt\n",
        "\n",
        "# Visualize a few patches\n",
        "sample_patches = patches[:5]  # Adjust the number as needed\n",
        "\n",
        "# Display the patches using matplotlib\n",
        "fig, axes = plt.subplots(1, len(sample_patches), figsize=(15, 5))\n",
        "\n",
        "for i, patch in enumerate(sample_patches):\n",
        "    axes[i].imshow(cv2.cvtColor(patch, cv2.COLOR_BGR2RGB))\n",
        "    axes[i].axis('off')\n",
        "    axes[i].set_title(f\"Patch {i+1}\")"
      ],
      "metadata": {
        "colab": {
          "base_uri": "https://localhost:8080/",
          "height": 209
        },
        "id": "ofpkzkUBUZaA",
        "outputId": "a4e7959e-4143-48f4-a347-c0f41d656b88"
      },
      "execution_count": null,
      "outputs": [
        {
          "output_type": "display_data",
          "data": {
            "text/plain": [
              "<Figure size 1500x500 with 5 Axes>"
            ],
            "image/png": "[encoded data removed]"
          },
          "metadata": {}
        }
      ]
    },
    {
      "cell_type": "code",
      "source": [
        "import cv2\n",
        "import os\n",
        "import numpy as np\n",
        "import matplotlib.pyplot as plt\n",
        "from tensorflow.keras.applications.vgg16 import preprocess_input\n",
        "\n",
        "# Function to preprocess images\n",
        "def preprocess_images(images, target_size=(256, 256)):\n",
        "    preprocessed_images = []\n",
        "\n",
        "    for image in images:\n",
        "        # Check if the image is loaded successfully\n",
        "        if image is not None:\n",
        "            # Resize the image to the target size\n",
        "            resized_image = cv2.resize(image, target_size)\n",
        "\n",
        "            # Expand dimensions to match VGG16 input shape (add batch dimension)\n",
        "            expanded_image = np.expand_dims(resized_image, axis=0)\n",
        "\n",
        "            # Preprocess the image using VGG16 preprocess_input\n",
        "            preprocessed_image = preprocess_input(expanded_image)\n",
        "\n",
        "            preprocessed_images.append(preprocessed_image)\n",
        "\n",
        "    return np.vstack(preprocessed_images)\n",
        "\n",
        "# Load only image files from the 'positive' and 'negative' subdirectories\n",
        "image_files_positive = [file for file in os.listdir('/content/positive') if file.lower().endswith(('.png', '.jpg', '.jpeg', '.gif', '.bmp'))]\n",
        "image_files_negative = [file for file in os.listdir('/content/negative') if file.lower().endswith(('.png', '.jpg', '.jpeg', '.gif', '.bmp'))]\n",
        "\n",
        "# Combine image files from both directories\n",
        "image_files = image_files_positive + image_files_negative\n",
        "\n",
        "# Load images from the directories\n",
        "images = [cv2.imread(os.path.join('/content/positive', file)) for file in image_files_positive]\n",
        "images += [cv2.imread(os.path.join('/content/negative', file)) for file in image_files_negative]\n",
        "\n",
        "# Print the list of image files\n",
        "print(\"Image files:\", image_files)\n",
        "\n",
        "# Preprocess original images with a target size of 256x256\n",
        "preprocessed_images = preprocess_images(images, target_size=(256, 256))\n",
        "\n",
        "# Display a few preprocessed images\n",
        "fig, axes = plt.subplots(1, len(preprocessed_images), figsize=(15, 5))\n",
        "\n",
        "for i, preprocessed_image in enumerate(preprocessed_images):\n",
        "    axes[i].imshow(cv2.cvtColor(preprocessed_image.squeeze(), cv2.COLOR_BGR2RGB))\n",
        "    axes[i].axis('off')\n",
        "    axes[i].set_title(f\"Preprocessed Image {i+1}\")\n",
        "\n",
        "plt.show()\n"
      ],
      "metadata": {
        "colab": {
          "base_uri": "https://localhost:8080/",
          "height": 1000
        },
        "id": "taX67z7NMClP",
        "outputId": "5bb25891-4a41-4f6e-84d7-111280831367"
      },
      "execution_count": null,
      "outputs": [
        {
          "output_type": "stream",
          "name": "stdout",
          "text": [
            "Image files: ['IMG_1890.JPG', 'IMG_9605.JPG', 'IMG_0491.JPG', 'IMG_0949.JPG', 'IMG_8552.JPG', 'IMG_0067.JPG', 'IMG_1336.JPG', 'IMG_9418.JPG', 'IMG_8803.JPG', 'IMG_8063.JPG', 'IMG_2885.JPG', 'IMG_3022.JPG', 'IMG_0105.JPG', 'IMG_9784.JPG', 'IMG_2781.JPG', 'IMG_8442.JPG', 'IMG_1486.JPG', 'IMG_7364.JPG', 'IMG_0866.JPG', 'IMG_0475.JPG', 'IMG_1964.JPG', 'IMG_2876.JPG', 'IMG_7384.JPG', 'IMG_0895.JPG', 'IMG_0003.JPG', 'IMG_9550.JPG', 'IMG_1955.JPG', 'IMG_9649.JPG', 'IMG_2075.JPG', 'IMG_1524.JPG', 'IMG_2750.JPG', 'IMG_8779.JPG', 'IMG_9575.JPG', 'IMG_8642.JPG', 'IMG_0418.JPG', 'IMG_0940.JPG', 'IMG_0833.JPG', 'IMG_1445.JPG', 'IMG_0060.JPG', 'IMG_9712.JPG', 'IMG_1285.JPG', 'IMG_7407.JPG', 'IMG_9458.JPG', 'IMG_9567.JPG', 'IMG_0724.JPG', 'IMG_2022.JPG', 'IMG_7969.JPG', 'IMG_2911.JPG', 'IMG_0129.JPG', 'IMG_1264.JPG', 'IMG_8826.JPG', 'IMG_8797.JPG', 'IMG_0759.JPG', 'IMG_9799.JPG', 'IMG_1621.JPG', 'IMG_7597.JPG', 'IMG_0960.JPG', 'IMG_2148.JPG', 'IMG_0043.JPG', 'IMG_9524.JPG', 'IMG_2009.JPG', 'IMG_0444.JPG', 'IMG_8082.JPG', 'IMG_1187.JPG', 'IMG_2832.JPG', 'IMG_2697.JPG', 'IMG_1869.JPG', 'IMG_8458.JPG', 'IMG_3115.JPG', 'IMG_9708.JPG', 'IMG_2090.JPG', 'IMG_8017.JPG', 'IMG_1226.JPG', 'IMG_0393.JPG', 'IMG_3173.JPG', 'IMG_8892.JPG', 'IMG_1828.JPG', 'IMG_8851.JPG', 'IMG_1447.JPG', 'IMG_0397.JPG', 'IMG_1602.JPG', 'IMG_7446.JPG', 'IMG_1281.JPG', 'IMG_1442.JPG', 'IMG_1959.JPG', 'IMG_3049.JPG', 'IMG_0855.JPG', 'IMG_9498.JPG', 'IMG_9449.JPG', 'IMG_8098.JPG', 'IMG_8467.JPG', 'IMG_1254.JPG', 'IMG_8682.JPG', 'IMG_2060.JPG', 'IMG_1223.JPG', 'IMG_7619.JPG', 'IMG_8021.JPG', 'IMG_1231.JPG', 'IMG_8596.JPG', 'IMG_8404.JPG', 'Lactobacillus.crispatus_0013.jpg', 'Staphylococcus.saprophiticus_0004.jpg', 'Lactobacillus.jehnsenii_0015.jpg', 'Staphylococcus.aureus_0001.jpg', 'Proteus_0006.jpg', 'Lactobacillus.johnsonii_0012.jpg', 'Lactobacillus.salivarius_0015.jpg', 'Actinomyces.israeli_0014.jpg', 'Proteus_0003.jpg', 'Lactobacillus.reuteri_0010.jpg', 'Fusobacterium_0013.jpg', 'Enterococcus.faecium_0002.jpg', 'Listeria.monocytogenes_0012.jpg', 'Lactobacillus.rhamnosus_0014.jpg', 'Enterococcus.faecalis_0015.jpg', 'Lactobacillus.salivarius_0002.jpg', 'Lactobacillus.plantarum_0014.jpg', 'Lactobacillus.delbrueckii_0015.jpg', 'Bacteroides.fragilis_0003.jpg', 'Propionibacterium.acnes_0021.jpg', 'Veionella_0003.jpg', 'Bacteroides.fragilis_0008.jpg', 'Lactobacillus.paracasei_0008.jpg', 'Staphylococcus.aureus_0009.jpg', 'Enterococcus.faecium_0008.jpg', 'Lactobacillus.gasseri_0006.jpg', 'Staphylococcus.saprophiticus_0019.jpg', 'Lactobacillus.gasseri_0008.jpg', 'Lactobacillus.casei_0003.jpg', 'Lactobacillus.rhamnosus_0009.jpg', 'Lactobacillus.jehnsenii_0003.jpg', 'Bifidobacterium.spp_0001.jpg', 'Pseudomonas.aeruginosa_0017.jpg', 'Lactobacillus.casei_0009.jpg', 'Micrococcus.spp_0008.jpg', 'Candida.albicans_0003.jpg', 'Clostridium.perfringens_0015.jpg', 'Fusobacterium_0001.jpg', 'Clostridium.perfringens_0003.jpg', 'Staphylococcus.saprophiticus_0012.jpg', 'Acinetobacter.baumanii_0008.jpg', 'Propionibacterium.acnes_0009.jpg', 'Lactobacillus.casei_0013.jpg', 'Escherichia.coli_0002.jpg', 'Lactobacillus.paracasei_0017.jpg', 'Porfyromonas.gingivalis_0010.jpg', 'Bifidobacterium.spp_0007.jpg', 'Neisseria.gonorrhoeae_0001.jpg', 'Actinomyces.israeli_0008.jpg', 'Enterococcus.faecium_0015.jpg', 'Streptococcus.agalactiae_0006.jpg', 'Lactobacillus.reuteri_0002.jpg', 'Lactobacillus.crispatus_0007.jpg', 'Escherichia.coli_0016.jpg', 'Staphylococcus.epidermidis_0017.jpg', 'Lactobacillus.jehnsenii_0008.jpg', 'Lactobacillus.johnsonii_0001.jpg', 'Porfyromonas.gingivalis_0020.jpg', 'Lactobacillus.salivarius_0020.jpg', 'Propionibacterium.acnes_0001.jpg', 'Proteus_0018.jpg', 'Lactobacillus.paracasei_0002.jpg', 'Streptococcus.agalactiae_0017.jpg', 'Enterococcus.faecalis_0010.jpg', 'Lactobacillus.delbrueckii_0004.jpg', 'Lactobacillus.salivarius_0008.jpg', 'Lactobacillus.reuteri_0020.jpg', 'Micrococcus.spp_0002.jpg', 'Lactobacillus.crispatus_0003.jpg', 'Candida.albicans_0014.jpg', 'Lactobacillus.plantarum_0003.jpg', 'Micrococcus.spp_0015.jpg', 'Bacteroides.fragilis_0015.jpg', 'Porfyromonas.gingivalis_0002.jpg', 'Bifidobacterium.spp_0012.jpg', 'Staphylococcus.aureus_0018.jpg', 'Lactobacillus.gasseri_0001.jpg', 'Acinetobacter.baumanii_0011.jpg', 'Lactobacillus.plantarum_0008.jpg', 'Fusobacterium_0005.jpg', 'Pseudomonas.aeruginosa_0002.jpg', 'Listeria.monocytogenes_0006.jpg', 'Veionella_0009.jpg', 'Lactobacillus.delbrueckii_0008.jpg', 'Escherichia.coli_0010.jpg', 'Clostridium.perfringens_0009.jpg', 'Lactobacillus.johnsonii_0007.jpg', 'Lactobacillus.reuteri_0017.jpg', 'Actinomyces.israeli_0003.jpg', 'Enterococcus.faecalis_0003.jpg', 'Neisseria.gonorrhoeae_0020.jpg', 'Neisseria.gonorrhoeae_0008.jpg', 'Staphylococcus.epidermidis_0011.jpg', 'Streptococcus.agalactiae_0011.jpg', 'Listeria.monocytogenes_0020.jpg', 'Acinetobacter.baumanii_0002.jpg', 'Staphylococcus.epidermidis_0004.jpg', 'Pseudomonas.aeruginosa_0012.jpg', 'Veionella_0018.jpg', 'Lactobacillus.rhamnosus_0004.jpg']\n"
          ]
        },
        {
          "output_type": "stream",
          "name": "stderr",
          "text": [
            "WARNING:matplotlib.image:Clipping input data to the valid range for imshow with RGB data ([0..1] for floats or [0..255] for integers).\n",
            "WARNING:matplotlib.image:Clipping input data to the valid range for imshow with RGB data ([0..1] for floats or [0..255] for integers).\n",
            "WARNING:matplotlib.image:Clipping input data to the valid range for imshow with RGB data ([0..1] for floats or [0..255] for integers).\n",
            "WARNING:matplotlib.image:Clipping input data to the valid range for imshow with RGB data ([0..1] for floats or [0..255] for integers).\n",
            "WARNING:matplotlib.image:Clipping input data to the valid range for imshow with RGB data ([0..1] for floats or [0..255] for integers).\n",
            "WARNING:matplotlib.image:Clipping input data to the valid range for imshow with RGB data ([0..1] for floats or [0..255] for integers).\n",
            "WARNING:matplotlib.image:Clipping input data to the valid range for imshow with RGB data ([0..1] for floats or [0..255] for integers).\n",
            "WARNING:matplotlib.image:Clipping input data to the valid range for imshow with RGB data ([0..1] for floats or [0..255] for integers).\n",
            "WARNING:matplotlib.image:Clipping input data to the valid range for imshow with RGB data ([0..1] for floats or [0..255] for integers).\n",
            "WARNING:matplotlib.image:Clipping input data to the valid range for imshow with RGB data ([0..1] for floats or [0..255] for integers).\n",
            "WARNING:matplotlib.image:Clipping input data to the valid range for imshow with RGB data ([0..1] for floats or [0..255] for integers).\n",
            "WARNING:matplotlib.image:Clipping input data to the valid range for imshow with RGB data ([0..1] for floats or [0..255] for integers).\n",
            "WARNING:matplotlib.image:Clipping input data to the valid range for imshow with RGB data ([0..1] for floats or [0..255] for integers).\n",
            "WARNING:matplotlib.image:Clipping input data to the valid range for imshow with RGB data ([0..1] for floats or [0..255] for integers).\n",
            "WARNING:matplotlib.image:Clipping input data to the valid range for imshow with RGB data ([0..1] for floats or [0..255] for integers).\n",
            "WARNING:matplotlib.image:Clipping input data to the valid range for imshow with RGB data ([0..1] for floats or [0..255] for integers).\n",
            "WARNING:matplotlib.image:Clipping input data to the valid range for imshow with RGB data ([0..1] for floats or [0..255] for integers).\n",
            "WARNING:matplotlib.image:Clipping input data to the valid range for imshow with RGB data ([0..1] for floats or [0..255] for integers).\n",
            "WARNING:matplotlib.image:Clipping input data to the valid range for imshow with RGB data ([0..1] for floats or [0..255] for integers).\n",
            "WARNING:matplotlib.image:Clipping input data to the valid range for imshow with RGB data ([0..1] for floats or [0..255] for integers).\n",
            "WARNING:matplotlib.image:Clipping input data to the valid range for imshow with RGB data ([0..1] for floats or [0..255] for integers).\n",
            "WARNING:matplotlib.image:Clipping input data to the valid range for imshow with RGB data ([0..1] for floats or [0..255] for integers).\n",
            "WARNING:matplotlib.image:Clipping input data to the valid range for imshow with RGB data ([0..1] for floats or [0..255] for integers).\n",
            "WARNING:matplotlib.image:Clipping input data to the valid range for imshow with RGB data ([0..1] for floats or [0..255] for integers).\n",
            "WARNING:matplotlib.image:Clipping input data to the valid range for imshow with RGB data ([0..1] for floats or [0..255] for integers).\n",
            "WARNING:matplotlib.image:Clipping input data to the valid range for imshow with RGB data ([0..1] for floats or [0..255] for integers).\n",
            "WARNING:matplotlib.image:Clipping input data to the valid range for imshow with RGB data ([0..1] for floats or [0..255] for integers).\n",
            "WARNING:matplotlib.image:Clipping input data to the valid range for imshow with RGB data ([0..1] for floats or [0..255] for integers).\n",
            "WARNING:matplotlib.image:Clipping input data to the valid range for imshow with RGB data ([0..1] for floats or [0..255] for integers).\n",
            "WARNING:matplotlib.image:Clipping input data to the valid range for imshow with RGB data ([0..1] for floats or [0..255] for integers).\n",
            "WARNING:matplotlib.image:Clipping input data to the valid range for imshow with RGB data ([0..1] for floats or [0..255] for integers).\n",
            "WARNING:matplotlib.image:Clipping input data to the valid range for imshow with RGB data ([0..1] for floats or [0..255] for integers).\n",
            "WARNING:matplotlib.image:Clipping input data to the valid range for imshow with RGB data ([0..1] for floats or [0..255] for integers).\n",
            "WARNING:matplotlib.image:Clipping input data to the valid range for imshow with RGB data ([0..1] for floats or [0..255] for integers).\n",
            "WARNING:matplotlib.image:Clipping input data to the valid range for imshow with RGB data ([0..1] for floats or [0..255] for integers).\n",
            "WARNING:matplotlib.image:Clipping input data to the valid range for imshow with RGB data ([0..1] for floats or [0..255] for integers).\n",
            "WARNING:matplotlib.image:Clipping input data to the valid range for imshow with RGB data ([0..1] for floats or [0..255] for integers).\n",
            "WARNING:matplotlib.image:Clipping input data to the valid range for imshow with RGB data ([0..1] for floats or [0..255] for integers).\n",
            "WARNING:matplotlib.image:Clipping input data to the valid range for imshow with RGB data ([0..1] for floats or [0..255] for integers).\n",
            "WARNING:matplotlib.image:Clipping input data to the valid range for imshow with RGB data ([0..1] for floats or [0..255] for integers).\n",
            "WARNING:matplotlib.image:Clipping input data to the valid range for imshow with RGB data ([0..1] for floats or [0..255] for integers).\n",
            "WARNING:matplotlib.image:Clipping input data to the valid range for imshow with RGB data ([0..1] for floats or [0..255] for integers).\n",
            "WARNING:matplotlib.image:Clipping input data to the valid range for imshow with RGB data ([0..1] for floats or [0..255] for integers).\n",
            "WARNING:matplotlib.image:Clipping input data to the valid range for imshow with RGB data ([0..1] for floats or [0..255] for integers).\n",
            "WARNING:matplotlib.image:Clipping input data to the valid range for imshow with RGB data ([0..1] for floats or [0..255] for integers).\n",
            "WARNING:matplotlib.image:Clipping input data to the valid range for imshow with RGB data ([0..1] for floats or [0..255] for integers).\n",
            "WARNING:matplotlib.image:Clipping input data to the valid range for imshow with RGB data ([0..1] for floats or [0..255] for integers).\n",
            "WARNING:matplotlib.image:Clipping input data to the valid range for imshow with RGB data ([0..1] for floats or [0..255] for integers).\n",
            "WARNING:matplotlib.image:Clipping input data to the valid range for imshow with RGB data ([0..1] for floats or [0..255] for integers).\n",
            "WARNING:matplotlib.image:Clipping input data to the valid range for imshow with RGB data ([0..1] for floats or [0..255] for integers).\n",
            "WARNING:matplotlib.image:Clipping input data to the valid range for imshow with RGB data ([0..1] for floats or [0..255] for integers).\n",
            "WARNING:matplotlib.image:Clipping input data to the valid range for imshow with RGB data ([0..1] for floats or [0..255] for integers).\n",
            "WARNING:matplotlib.image:Clipping input data to the valid range for imshow with RGB data ([0..1] for floats or [0..255] for integers).\n",
            "WARNING:matplotlib.image:Clipping input data to the valid range for imshow with RGB data ([0..1] for floats or [0..255] for integers).\n",
            "WARNING:matplotlib.image:Clipping input data to the valid range for imshow with RGB data ([0..1] for floats or [0..255] for integers).\n",
            "WARNING:matplotlib.image:Clipping input data to the valid range for imshow with RGB data ([0..1] for floats or [0..255] for integers).\n",
            "WARNING:matplotlib.image:Clipping input data to the valid range for imshow with RGB data ([0..1] for floats or [0..255] for integers).\n",
            "WARNING:matplotlib.image:Clipping input data to the valid range for imshow with RGB data ([0..1] for floats or [0..255] for integers).\n",
            "WARNING:matplotlib.image:Clipping input data to the valid range for imshow with RGB data ([0..1] for floats or [0..255] for integers).\n",
            "WARNING:matplotlib.image:Clipping input data to the valid range for imshow with RGB data ([0..1] for floats or [0..255] for integers).\n",
            "WARNING:matplotlib.image:Clipping input data to the valid range for imshow with RGB data ([0..1] for floats or [0..255] for integers).\n",
            "WARNING:matplotlib.image:Clipping input data to the valid range for imshow with RGB data ([0..1] for floats or [0..255] for integers).\n",
            "WARNING:matplotlib.image:Clipping input data to the valid range for imshow with RGB data ([0..1] for floats or [0..255] for integers).\n",
            "WARNING:matplotlib.image:Clipping input data to the valid range for imshow with RGB data ([0..1] for floats or [0..255] for integers).\n",
            "WARNING:matplotlib.image:Clipping input data to the valid range for imshow with RGB data ([0..1] for floats or [0..255] for integers).\n",
            "WARNING:matplotlib.image:Clipping input data to the valid range for imshow with RGB data ([0..1] for floats or [0..255] for integers).\n",
            "WARNING:matplotlib.image:Clipping input data to the valid range for imshow with RGB data ([0..1] for floats or [0..255] for integers).\n",
            "WARNING:matplotlib.image:Clipping input data to the valid range for imshow with RGB data ([0..1] for floats or [0..255] for integers).\n",
            "WARNING:matplotlib.image:Clipping input data to the valid range for imshow with RGB data ([0..1] for floats or [0..255] for integers).\n",
            "WARNING:matplotlib.image:Clipping input data to the valid range for imshow with RGB data ([0..1] for floats or [0..255] for integers).\n",
            "WARNING:matplotlib.image:Clipping input data to the valid range for imshow with RGB data ([0..1] for floats or [0..255] for integers).\n",
            "WARNING:matplotlib.image:Clipping input data to the valid range for imshow with RGB data ([0..1] for floats or [0..255] for integers).\n",
            "WARNING:matplotlib.image:Clipping input data to the valid range for imshow with RGB data ([0..1] for floats or [0..255] for integers).\n",
            "WARNING:matplotlib.image:Clipping input data to the valid range for imshow with RGB data ([0..1] for floats or [0..255] for integers).\n",
            "WARNING:matplotlib.image:Clipping input data to the valid range for imshow with RGB data ([0..1] for floats or [0..255] for integers).\n",
            "WARNING:matplotlib.image:Clipping input data to the valid range for imshow with RGB data ([0..1] for floats or [0..255] for integers).\n",
            "WARNING:matplotlib.image:Clipping input data to the valid range for imshow with RGB data ([0..1] for floats or [0..255] for integers).\n",
            "WARNING:matplotlib.image:Clipping input data to the valid range for imshow with RGB data ([0..1] for floats or [0..255] for integers).\n",
            "WARNING:matplotlib.image:Clipping input data to the valid range for imshow with RGB data ([0..1] for floats or [0..255] for integers).\n",
            "WARNING:matplotlib.image:Clipping input data to the valid range for imshow with RGB data ([0..1] for floats or [0..255] for integers).\n",
            "WARNING:matplotlib.image:Clipping input data to the valid range for imshow with RGB data ([0..1] for floats or [0..255] for integers).\n",
            "WARNING:matplotlib.image:Clipping input data to the valid range for imshow with RGB data ([0..1] for floats or [0..255] for integers).\n",
            "WARNING:matplotlib.image:Clipping input data to the valid range for imshow with RGB data ([0..1] for floats or [0..255] for integers).\n",
            "WARNING:matplotlib.image:Clipping input data to the valid range for imshow with RGB data ([0..1] for floats or [0..255] for integers).\n",
            "WARNING:matplotlib.image:Clipping input data to the valid range for imshow with RGB data ([0..1] for floats or [0..255] for integers).\n",
            "WARNING:matplotlib.image:Clipping input data to the valid range for imshow with RGB data ([0..1] for floats or [0..255] for integers).\n",
            "WARNING:matplotlib.image:Clipping input data to the valid range for imshow with RGB data ([0..1] for floats or [0..255] for integers).\n",
            "WARNING:matplotlib.image:Clipping input data to the valid range for imshow with RGB data ([0..1] for floats or [0..255] for integers).\n",
            "WARNING:matplotlib.image:Clipping input data to the valid range for imshow with RGB data ([0..1] for floats or [0..255] for integers).\n",
            "WARNING:matplotlib.image:Clipping input data to the valid range for imshow with RGB data ([0..1] for floats or [0..255] for integers).\n",
            "WARNING:matplotlib.image:Clipping input data to the valid range for imshow with RGB data ([0..1] for floats or [0..255] for integers).\n",
            "WARNING:matplotlib.image:Clipping input data to the valid range for imshow with RGB data ([0..1] for floats or [0..255] for integers).\n",
            "WARNING:matplotlib.image:Clipping input data to the valid range for imshow with RGB data ([0..1] for floats or [0..255] for integers).\n",
            "WARNING:matplotlib.image:Clipping input data to the valid range for imshow with RGB data ([0..1] for floats or [0..255] for integers).\n",
            "WARNING:matplotlib.image:Clipping input data to the valid range for imshow with RGB data ([0..1] for floats or [0..255] for integers).\n",
            "WARNING:matplotlib.image:Clipping input data to the valid range for imshow with RGB data ([0..1] for floats or [0..255] for integers).\n",
            "WARNING:matplotlib.image:Clipping input data to the valid range for imshow with RGB data ([0..1] for floats or [0..255] for integers).\n",
            "WARNING:matplotlib.image:Clipping input data to the valid range for imshow with RGB data ([0..1] for floats or [0..255] for integers).\n",
            "WARNING:matplotlib.image:Clipping input data to the valid range for imshow with RGB data ([0..1] for floats or [0..255] for integers).\n",
            "WARNING:matplotlib.image:Clipping input data to the valid range for imshow with RGB data ([0..1] for floats or [0..255] for integers).\n",
            "WARNING:matplotlib.image:Clipping input data to the valid range for imshow with RGB data ([0..1] for floats or [0..255] for integers).\n",
            "WARNING:matplotlib.image:Clipping input data to the valid range for imshow with RGB data ([0..1] for floats or [0..255] for integers).\n",
            "WARNING:matplotlib.image:Clipping input data to the valid range for imshow with RGB data ([0..1] for floats or [0..255] for integers).\n",
            "WARNING:matplotlib.image:Clipping input data to the valid range for imshow with RGB data ([0..1] for floats or [0..255] for integers).\n",
            "WARNING:matplotlib.image:Clipping input data to the valid range for imshow with RGB data ([0..1] for floats or [0..255] for integers).\n",
            "WARNING:matplotlib.image:Clipping input data to the valid range for imshow with RGB data ([0..1] for floats or [0..255] for integers).\n",
            "WARNING:matplotlib.image:Clipping input data to the valid range for imshow with RGB data ([0..1] for floats or [0..255] for integers).\n",
            "WARNING:matplotlib.image:Clipping input data to the valid range for imshow with RGB data ([0..1] for floats or [0..255] for integers).\n",
            "WARNING:matplotlib.image:Clipping input data to the valid range for imshow with RGB data ([0..1] for floats or [0..255] for integers).\n",
            "WARNING:matplotlib.image:Clipping input data to the valid range for imshow with RGB data ([0..1] for floats or [0..255] for integers).\n",
            "WARNING:matplotlib.image:Clipping input data to the valid range for imshow with RGB data ([0..1] for floats or [0..255] for integers).\n",
            "WARNING:matplotlib.image:Clipping input data to the valid range for imshow with RGB data ([0..1] for floats or [0..255] for integers).\n",
            "WARNING:matplotlib.image:Clipping input data to the valid range for imshow with RGB data ([0..1] for floats or [0..255] for integers).\n",
            "WARNING:matplotlib.image:Clipping input data to the valid range for imshow with RGB data ([0..1] for floats or [0..255] for integers).\n",
            "WARNING:matplotlib.image:Clipping input data to the valid range for imshow with RGB data ([0..1] for floats or [0..255] for integers).\n",
            "WARNING:matplotlib.image:Clipping input data to the valid range for imshow with RGB data ([0..1] for floats or [0..255] for integers).\n",
            "WARNING:matplotlib.image:Clipping input data to the valid range for imshow with RGB data ([0..1] for floats or [0..255] for integers).\n",
            "WARNING:matplotlib.image:Clipping input data to the valid range for imshow with RGB data ([0..1] for floats or [0..255] for integers).\n",
            "WARNING:matplotlib.image:Clipping input data to the valid range for imshow with RGB data ([0..1] for floats or [0..255] for integers).\n",
            "WARNING:matplotlib.image:Clipping input data to the valid range for imshow with RGB data ([0..1] for floats or [0..255] for integers).\n",
            "WARNING:matplotlib.image:Clipping input data to the valid range for imshow with RGB data ([0..1] for floats or [0..255] for integers).\n",
            "WARNING:matplotlib.image:Clipping input data to the valid range for imshow with RGB data ([0..1] for floats or [0..255] for integers).\n",
            "WARNING:matplotlib.image:Clipping input data to the valid range for imshow with RGB data ([0..1] for floats or [0..255] for integers).\n",
            "WARNING:matplotlib.image:Clipping input data to the valid range for imshow with RGB data ([0..1] for floats or [0..255] for integers).\n",
            "WARNING:matplotlib.image:Clipping input data to the valid range for imshow with RGB data ([0..1] for floats or [0..255] for integers).\n",
            "WARNING:matplotlib.image:Clipping input data to the valid range for imshow with RGB data ([0..1] for floats or [0..255] for integers).\n",
            "WARNING:matplotlib.image:Clipping input data to the valid range for imshow with RGB data ([0..1] for floats or [0..255] for integers).\n",
            "WARNING:matplotlib.image:Clipping input data to the valid range for imshow with RGB data ([0..1] for floats or [0..255] for integers).\n",
            "WARNING:matplotlib.image:Clipping input data to the valid range for imshow with RGB data ([0..1] for floats or [0..255] for integers).\n",
            "WARNING:matplotlib.image:Clipping input data to the valid range for imshow with RGB data ([0..1] for floats or [0..255] for integers).\n",
            "WARNING:matplotlib.image:Clipping input data to the valid range for imshow with RGB data ([0..1] for floats or [0..255] for integers).\n",
            "WARNING:matplotlib.image:Clipping input data to the valid range for imshow with RGB data ([0..1] for floats or [0..255] for integers).\n",
            "WARNING:matplotlib.image:Clipping input data to the valid range for imshow with RGB data ([0..1] for floats or [0..255] for integers).\n",
            "WARNING:matplotlib.image:Clipping input data to the valid range for imshow with RGB data ([0..1] for floats or [0..255] for integers).\n",
            "WARNING:matplotlib.image:Clipping input data to the valid range for imshow with RGB data ([0..1] for floats or [0..255] for integers).\n",
            "WARNING:matplotlib.image:Clipping input data to the valid range for imshow with RGB data ([0..1] for floats or [0..255] for integers).\n",
            "WARNING:matplotlib.image:Clipping input data to the valid range for imshow with RGB data ([0..1] for floats or [0..255] for integers).\n",
            "WARNING:matplotlib.image:Clipping input data to the valid range for imshow with RGB data ([0..1] for floats or [0..255] for integers).\n",
            "WARNING:matplotlib.image:Clipping input data to the valid range for imshow with RGB data ([0..1] for floats or [0..255] for integers).\n",
            "WARNING:matplotlib.image:Clipping input data to the valid range for imshow with RGB data ([0..1] for floats or [0..255] for integers).\n",
            "WARNING:matplotlib.image:Clipping input data to the valid range for imshow with RGB data ([0..1] for floats or [0..255] for integers).\n",
            "WARNING:matplotlib.image:Clipping input data to the valid range for imshow with RGB data ([0..1] for floats or [0..255] for integers).\n",
            "WARNING:matplotlib.image:Clipping input data to the valid range for imshow with RGB data ([0..1] for floats or [0..255] for integers).\n",
            "WARNING:matplotlib.image:Clipping input data to the valid range for imshow with RGB data ([0..1] for floats or [0..255] for integers).\n",
            "WARNING:matplotlib.image:Clipping input data to the valid range for imshow with RGB data ([0..1] for floats or [0..255] for integers).\n",
            "WARNING:matplotlib.image:Clipping input data to the valid range for imshow with RGB data ([0..1] for floats or [0..255] for integers).\n",
            "WARNING:matplotlib.image:Clipping input data to the valid range for imshow with RGB data ([0..1] for floats or [0..255] for integers).\n",
            "WARNING:matplotlib.image:Clipping input data to the valid range for imshow with RGB data ([0..1] for floats or [0..255] for integers).\n",
            "WARNING:matplotlib.image:Clipping input data to the valid range for imshow with RGB data ([0..1] for floats or [0..255] for integers).\n",
            "WARNING:matplotlib.image:Clipping input data to the valid range for imshow with RGB data ([0..1] for floats or [0..255] for integers).\n",
            "WARNING:matplotlib.image:Clipping input data to the valid range for imshow with RGB data ([0..1] for floats or [0..255] for integers).\n",
            "WARNING:matplotlib.image:Clipping input data to the valid range for imshow with RGB data ([0..1] for floats or [0..255] for integers).\n",
            "WARNING:matplotlib.image:Clipping input data to the valid range for imshow with RGB data ([0..1] for floats or [0..255] for integers).\n",
            "WARNING:matplotlib.image:Clipping input data to the valid range for imshow with RGB data ([0..1] for floats or [0..255] for integers).\n",
            "WARNING:matplotlib.image:Clipping input data to the valid range for imshow with RGB data ([0..1] for floats or [0..255] for integers).\n",
            "WARNING:matplotlib.image:Clipping input data to the valid range for imshow with RGB data ([0..1] for floats or [0..255] for integers).\n",
            "WARNING:matplotlib.image:Clipping input data to the valid range for imshow with RGB data ([0..1] for floats or [0..255] for integers).\n",
            "WARNING:matplotlib.image:Clipping input data to the valid range for imshow with RGB data ([0..1] for floats or [0..255] for integers).\n",
            "WARNING:matplotlib.image:Clipping input data to the valid range for imshow with RGB data ([0..1] for floats or [0..255] for integers).\n",
            "WARNING:matplotlib.image:Clipping input data to the valid range for imshow with RGB data ([0..1] for floats or [0..255] for integers).\n",
            "WARNING:matplotlib.image:Clipping input data to the valid range for imshow with RGB data ([0..1] for floats or [0..255] for integers).\n",
            "WARNING:matplotlib.image:Clipping input data to the valid range for imshow with RGB data ([0..1] for floats or [0..255] for integers).\n",
            "WARNING:matplotlib.image:Clipping input data to the valid range for imshow with RGB data ([0..1] for floats or [0..255] for integers).\n",
            "WARNING:matplotlib.image:Clipping input data to the valid range for imshow with RGB data ([0..1] for floats or [0..255] for integers).\n",
            "WARNING:matplotlib.image:Clipping input data to the valid range for imshow with RGB data ([0..1] for floats or [0..255] for integers).\n",
            "WARNING:matplotlib.image:Clipping input data to the valid range for imshow with RGB data ([0..1] for floats or [0..255] for integers).\n",
            "WARNING:matplotlib.image:Clipping input data to the valid range for imshow with RGB data ([0..1] for floats or [0..255] for integers).\n",
            "WARNING:matplotlib.image:Clipping input data to the valid range for imshow with RGB data ([0..1] for floats or [0..255] for integers).\n",
            "WARNING:matplotlib.image:Clipping input data to the valid range for imshow with RGB data ([0..1] for floats or [0..255] for integers).\n",
            "WARNING:matplotlib.image:Clipping input data to the valid range for imshow with RGB data ([0..1] for floats or [0..255] for integers).\n",
            "WARNING:matplotlib.image:Clipping input data to the valid range for imshow with RGB data ([0..1] for floats or [0..255] for integers).\n",
            "WARNING:matplotlib.image:Clipping input data to the valid range for imshow with RGB data ([0..1] for floats or [0..255] for integers).\n",
            "WARNING:matplotlib.image:Clipping input data to the valid range for imshow with RGB data ([0..1] for floats or [0..255] for integers).\n",
            "WARNING:matplotlib.image:Clipping input data to the valid range for imshow with RGB data ([0..1] for floats or [0..255] for integers).\n",
            "WARNING:matplotlib.image:Clipping input data to the valid range for imshow with RGB data ([0..1] for floats or [0..255] for integers).\n",
            "WARNING:matplotlib.image:Clipping input data to the valid range for imshow with RGB data ([0..1] for floats or [0..255] for integers).\n",
            "WARNING:matplotlib.image:Clipping input data to the valid range for imshow with RGB data ([0..1] for floats or [0..255] for integers).\n",
            "WARNING:matplotlib.image:Clipping input data to the valid range for imshow with RGB data ([0..1] for floats or [0..255] for integers).\n",
            "WARNING:matplotlib.image:Clipping input data to the valid range for imshow with RGB data ([0..1] for floats or [0..255] for integers).\n",
            "WARNING:matplotlib.image:Clipping input data to the valid range for imshow with RGB data ([0..1] for floats or [0..255] for integers).\n",
            "WARNING:matplotlib.image:Clipping input data to the valid range for imshow with RGB data ([0..1] for floats or [0..255] for integers).\n",
            "WARNING:matplotlib.image:Clipping input data to the valid range for imshow with RGB data ([0..1] for floats or [0..255] for integers).\n",
            "WARNING:matplotlib.image:Clipping input data to the valid range for imshow with RGB data ([0..1] for floats or [0..255] for integers).\n",
            "WARNING:matplotlib.image:Clipping input data to the valid range for imshow with RGB data ([0..1] for floats or [0..255] for integers).\n",
            "WARNING:matplotlib.image:Clipping input data to the valid range for imshow with RGB data ([0..1] for floats or [0..255] for integers).\n",
            "WARNING:matplotlib.image:Clipping input data to the valid range for imshow with RGB data ([0..1] for floats or [0..255] for integers).\n",
            "WARNING:matplotlib.image:Clipping input data to the valid range for imshow with RGB data ([0..1] for floats or [0..255] for integers).\n",
            "WARNING:matplotlib.image:Clipping input data to the valid range for imshow with RGB data ([0..1] for floats or [0..255] for integers).\n",
            "WARNING:matplotlib.image:Clipping input data to the valid range for imshow with RGB data ([0..1] for floats or [0..255] for integers).\n",
            "WARNING:matplotlib.image:Clipping input data to the valid range for imshow with RGB data ([0..1] for floats or [0..255] for integers).\n",
            "WARNING:matplotlib.image:Clipping input data to the valid range for imshow with RGB data ([0..1] for floats or [0..255] for integers).\n",
            "WARNING:matplotlib.image:Clipping input data to the valid range for imshow with RGB data ([0..1] for floats or [0..255] for integers).\n",
            "WARNING:matplotlib.image:Clipping input data to the valid range for imshow with RGB data ([0..1] for floats or [0..255] for integers).\n",
            "WARNING:matplotlib.image:Clipping input data to the valid range for imshow with RGB data ([0..1] for floats or [0..255] for integers).\n",
            "WARNING:matplotlib.image:Clipping input data to the valid range for imshow with RGB data ([0..1] for floats or [0..255] for integers).\n",
            "WARNING:matplotlib.image:Clipping input data to the valid range for imshow with RGB data ([0..1] for floats or [0..255] for integers).\n",
            "WARNING:matplotlib.image:Clipping input data to the valid range for imshow with RGB data ([0..1] for floats or [0..255] for integers).\n",
            "WARNING:matplotlib.image:Clipping input data to the valid range for imshow with RGB data ([0..1] for floats or [0..255] for integers).\n",
            "WARNING:matplotlib.image:Clipping input data to the valid range for imshow with RGB data ([0..1] for floats or [0..255] for integers).\n",
            "WARNING:matplotlib.image:Clipping input data to the valid range for imshow with RGB data ([0..1] for floats or [0..255] for integers).\n"
          ]
        },
        {
          "output_type": "display_data",
          "data": {
            "text/plain": [
              "<Figure size 1500x500 with 200 Axes>"
            ],
            "image/png": "[encoded data removed]"
          },
          "metadata": {}
        }
      ]
    },
    {
      "cell_type": "code",
      "source": [
        "from sklearn.model_selection import train_test_split\n",
        "\n",
        "# Assuming you have binary labels (0 or 1 for absence or presence of Klebsiella pneumoniae)\n",
        "binary_labels_positive = [1] * len(image_files_positive)\n",
        "binary_labels_negative = [0] * len(image_files_negative)\n",
        "\n",
        "# Combine preprocessed_images and binary_labels into a single list of tuples\n",
        "data_positive = list(zip(preprocessed_images[:len(image_files_positive)], binary_labels_positive))\n",
        "data_negative = list(zip(preprocessed_images[len(image_files_positive):], binary_labels_negative))\n",
        "\n",
        "# Combine data from both classes\n",
        "data = data_positive + data_negative\n",
        "\n",
        "# Split the data into training (70%), validation (15%), and testing (15%) sets\n",
        "train_data, temp_data = train_test_split(data, test_size=0.3, random_state=2)\n",
        "val_data, test_data = train_test_split(temp_data, test_size=0.5, random_state=2)\n",
        "\n",
        "# Unzip the data back into separate lists\n",
        "train_images, train_labels = zip(*train_data)\n",
        "val_images, val_labels = zip(*val_data)\n",
        "test_images, test_labels = zip(*test_data)\n",
        "\n",
        "# Convert the lists to NumPy arrays for model training\n",
        "train_images = np.array(train_images)\n",
        "val_images = np.array(val_images)\n",
        "test_images = np.array(test_images)\n",
        "train_labels = np.array(train_labels)\n",
        "val_labels = np.array(val_labels)\n",
        "test_labels = np.array(test_labels)\n",
        "\n",
        "# Print the shapes to verify the split\n",
        "print(\"Train set shapes:\", train_images.shape, train_labels.shape)\n",
        "print(\"Validation set shapes:\", val_images.shape, val_labels.shape)\n",
        "print(\"Test set shapes:\", test_images.shape, test_labels.shape)\n"
      ],
      "metadata": {
        "colab": {
          "base_uri": "https://localhost:8080/"
        },
        "id": "N7c0Q5fRYZqP",
        "outputId": "468751dc-9df1-4666-f466-48f7e8fd5a41"
      },
      "execution_count": null,
      "outputs": [
        {
          "output_type": "stream",
          "name": "stdout",
          "text": [
            "Train set shapes: (140, 256, 256, 3) (140,)\n",
            "Validation set shapes: (30, 256, 256, 3) (30,)\n",
            "Test set shapes: (30, 256, 256, 3) (30,)\n"
          ]
        }
      ]
    },
    {
      "cell_type": "code",
      "source": [
        "# Assume base_model is the pre-trained VGG16 model\n",
        "base_model.trainable = False  # Freeze the weights of the pre-trained layers\n",
        "\n",
        "model = Sequential([\n",
        "    base_model,\n",
        "    Flatten(),\n",
        "    Dense(256, activation='relu'),\n",
        "    Dense(1, activation='sigmoid')\n",
        "])"
      ],
      "metadata": {
        "id": "moM5Lje2eLzI"
      },
      "execution_count": null,
      "outputs": []
    },
    {
      "cell_type": "code",
      "source": [
        "from tensorflow.keras.models import Sequential\n",
        "from tensorflow.keras.layers import Dense, Flatten\n",
        "from tensorflow.keras.applications import VGG16\n",
        "\n",
        "# Define the model\n",
        "base_model = VGG16(weights='imagenet', include_top=False, input_shape=(256, 256, 3))\n",
        "model = Sequential()\n",
        "model.add(base_model)\n",
        "model.add(Flatten())\n",
        "model.add(Dense(256, activation='relu'))\n",
        "model.add(Dense(1, activation='sigmoid'))  # Assuming binary classification\n",
        "\n",
        "# Compile the model\n",
        "model.compile(optimizer='adam', loss='binary_crossentropy', metrics=['accuracy'])\n",
        "\n",
        "# Train the model\n",
        "model.fit(train_images, train_labels, epochs=10, validation_data=(val_images, val_labels), batch_size=32)\n",
        "\n",
        "# Evaluate on the test set\n",
        "test_loss, test_accuracy = model.evaluate(test_images, test_labels)\n",
        "print(f\"Test Accuracy: {test_accuracy*100:.2f}%\")"
      ],
      "metadata": {
        "colab": {
          "base_uri": "https://localhost:8080/"
        },
        "id": "_JnS-X79ZPiX",
        "outputId": "65c5c0f6-cd01-45b4-8ab8-63426b526598"
      },
      "execution_count": null,
      "outputs": [
        {
          "output_type": "stream",
          "name": "stdout",
          "text": [
            "Epoch 1/10\n",
            "5/5 [==============================] - 7s 547ms/step - loss: 22.8011 - accuracy: 0.5357 - val_loss: 3.4456 - val_accuracy: 0.4667\n",
            "Epoch 2/10\n",
            "5/5 [==============================] - 2s 449ms/step - loss: 1.5711 - accuracy: 0.5071 - val_loss: 0.7160 - val_accuracy: 0.4667\n",
            "Epoch 3/10\n",
            "5/5 [==============================] - 2s 449ms/step - loss: 1.1019 - accuracy: 0.4786 - val_loss: 0.7112 - val_accuracy: 0.4667\n",
            "Epoch 4/10\n",
            "5/5 [==============================] - 2s 449ms/step - loss: 0.6911 - accuracy: 0.5071 - val_loss: 0.6922 - val_accuracy: 0.4667\n",
            "Epoch 5/10\n",
            "5/5 [==============================] - 2s 490ms/step - loss: 0.7663 - accuracy: 0.4643 - val_loss: 0.6857 - val_accuracy: 0.4667\n",
            "Epoch 6/10\n",
            "5/5 [==============================] - 2s 487ms/step - loss: 0.6360 - accuracy: 0.6429 - val_loss: 0.5614 - val_accuracy: 0.6667\n",
            "Epoch 7/10\n",
            "5/5 [==============================] - 2s 448ms/step - loss: 0.3642 - accuracy: 0.8357 - val_loss: 1.3675 - val_accuracy: 0.4667\n",
            "Epoch 8/10\n",
            "5/5 [==============================] - 2s 450ms/step - loss: 0.7253 - accuracy: 0.5857 - val_loss: 10.5735 - val_accuracy: 0.5333\n",
            "Epoch 9/10\n",
            "5/5 [==============================] - 2s 451ms/step - loss: 3.3391 - accuracy: 0.6786 - val_loss: 0.7128 - val_accuracy: 0.4667\n",
            "Epoch 10/10\n",
            "5/5 [==============================] - 2s 453ms/step - loss: 0.7548 - accuracy: 0.5714 - val_loss: 0.1928 - val_accuracy: 0.9667\n",
            "1/1 [==============================] - 0s 221ms/step - loss: 0.1459 - accuracy: 1.0000\n",
            "Test Accuracy: 100.00%\n"
          ]
        }
      ]
    },
    {
      "cell_type": "code",
      "source": [
        "from sklearn.metrics import classification_report\n",
        "\n",
        "# Predict on the test set\n",
        "predictions = model.predict(test_images)\n",
        "predicted_labels = (predictions > 0.5).astype(int)\n",
        "\n",
        "# Print classification report\n",
        "print(classification_report(test_labels, predicted_labels))"
      ],
      "metadata": {
        "colab": {
          "base_uri": "https://localhost:8080/"
        },
        "id": "bCUM9b-Vbwnh",
        "outputId": "85ba49d8-957a-40a4-dbef-365c5f643f80"
      },
      "execution_count": null,
      "outputs": [
        {
          "output_type": "stream",
          "name": "stdout",
          "text": [
            "1/1 [==============================] - 0s 32ms/step\n",
            "              precision    recall  f1-score   support\n",
            "\n",
            "           0       1.00      1.00      1.00        15\n",
            "           1       1.00      1.00      1.00        15\n",
            "\n",
            "    accuracy                           1.00        30\n",
            "   macro avg       1.00      1.00      1.00        30\n",
            "weighted avg       1.00      1.00      1.00        30\n",
            "\n"
          ]
        }
      ]
    },
    {
      "cell_type": "code",
      "source": [
        "from sklearn.metrics import accuracy_score, precision_score, recall_score, f1_score, confusion_matrix\n",
        "\n",
        "# Predict on the test set\n",
        "predictions = model.predict(test_images)\n",
        "predicted_labels = (predictions > 0.5).astype(int)\n",
        "\n",
        "# Calculate metrics\n",
        "accuracy = accuracy_score(test_labels, predicted_labels)\n",
        "precision = precision_score(test_labels, predicted_labels)\n",
        "recall = recall_score(test_labels, predicted_labels)\n",
        "f1 = f1_score(test_labels, predicted_labels)\n",
        "\n",
        "# Confusion matrix\n",
        "conf_matrix = confusion_matrix(test_labels, predicted_labels)\n",
        "\n",
        "# Calculate sensitivity and specificity\n",
        "sensitivity = conf_matrix[1, 1] / (conf_matrix[1, 0] + conf_matrix[1, 1])\n",
        "specificity = conf_matrix[0, 0] / (conf_matrix[0, 0] + conf_matrix[0, 1])\n",
        "\n",
        "# Print the metrics\n",
        "print(f\"Accuracy: {accuracy*100:.2f}%\")\n",
        "print(f\"Precision: {precision*100:.2f}%\")\n",
        "print(f\"Recall (Sensitivity): {recall*100:.2f}%\")\n",
        "print(f\"F1 Score: {f1*100:.2f}%\")\n",
        "print(f\"Sensitivity: {sensitivity*100:.2f}%\")\n",
        "print(f\"Specificity: {specificity*100:.2f}%\")"
      ],
      "metadata": {
        "colab": {
          "base_uri": "https://localhost:8080/"
        },
        "id": "N-Ar7EBSgHNx",
        "outputId": "462aa113-2d9f-44cb-e2c1-6872d85f1ac0"
      },
      "execution_count": null,
      "outputs": [
        {
          "output_type": "stream",
          "name": "stdout",
          "text": [
            "1/1 [==============================] - 0s 42ms/step\n",
            "Accuracy: 100.00%\n",
            "Precision: 100.00%\n",
            "Recall (Sensitivity): 100.00%\n",
            "F1 Score: 100.00%\n",
            "Sensitivity: 100.00%\n",
            "Specificity: 100.00%\n"
          ]
        }
      ]
    },
    {
      "cell_type": "code",
      "source": [
        "from tensorflow.keras.applications import ResNet50\n",
        "from tensorflow.keras.models import Sequential\n",
        "from tensorflow.keras.layers import Dense, Flatten\n",
        "from tensorflow.keras.optimizers import Adam\n",
        "\n",
        "# Load the ResNet50 model\n",
        "base_model = ResNet50(weights='imagenet', include_top=False, input_shape=(256, 256, 3))\n",
        "\n",
        "# Freeze the pre-trained layers\n",
        "base_model.trainable = False\n",
        "\n",
        "# Create a new model with custom layers on top of ResNet50\n",
        "model = Sequential([\n",
        "    base_model,\n",
        "    Flatten(),\n",
        "    Dense(256, activation='relu'),\n",
        "    Dense(1, activation='sigmoid')\n",
        "])\n",
        "\n",
        "# Compile the model\n",
        "model.compile(optimizer=Adam(learning_rate=0.001), loss='binary_crossentropy', metrics=['accuracy'])\n",
        "\n",
        "# Train the model\n",
        "history = model.fit(train_images, train_labels, epochs=10, validation_data=(val_images, val_labels), batch_size=32)\n",
        "\n",
        "# Evaluate on the test set\n",
        "test_loss, test_accuracy = model.evaluate(test_images, test_labels)\n",
        "print(f\"Test Accuracy: {test_accuracy*100:.2f}%\")"
      ],
      "metadata": {
        "colab": {
          "base_uri": "https://localhost:8080/"
        },
        "id": "CtTWOFx1gZpA",
        "outputId": "aad8db23-c8d2-4716-c571-a4444cb43977"
      },
      "execution_count": null,
      "outputs": [
        {
          "output_type": "stream",
          "name": "stdout",
          "text": [
            "Downloading data from https://storage.googleapis.com/tensorflow/keras-applications/resnet/resnet50_weights_tf_dim_ordering_tf_kernels_notop.h5\n",
            "94765736/94765736 [==============================] - 5s 0us/step\n",
            "Epoch 1/10\n",
            "5/5 [==============================] - 11s 1s/step - loss: 1.4196 - accuracy: 0.7929 - val_loss: 1.0006e-22 - val_accuracy: 1.0000\n",
            "Epoch 2/10\n",
            "5/5 [==============================] - 1s 146ms/step - loss: 0.0752 - accuracy: 0.9929 - val_loss: 3.6002 - val_accuracy: 0.9667\n",
            "Epoch 3/10\n",
            "5/5 [==============================] - 1s 145ms/step - loss: 1.4971 - accuracy: 0.9786 - val_loss: 2.2607e-09 - val_accuracy: 1.0000\n",
            "Epoch 4/10\n",
            "5/5 [==============================] - 1s 143ms/step - loss: 0.0000e+00 - accuracy: 1.0000 - val_loss: 0.0000e+00 - val_accuracy: 1.0000\n",
            "Epoch 5/10\n",
            "5/5 [==============================] - 1s 144ms/step - loss: 0.0000e+00 - accuracy: 1.0000 - val_loss: 0.0000e+00 - val_accuracy: 1.0000\n",
            "Epoch 6/10\n",
            "5/5 [==============================] - 1s 133ms/step - loss: 1.2461e-37 - accuracy: 1.0000 - val_loss: 0.0000e+00 - val_accuracy: 1.0000\n",
            "Epoch 7/10\n",
            "5/5 [==============================] - 1s 144ms/step - loss: 9.4721e-20 - accuracy: 1.0000 - val_loss: 0.0000e+00 - val_accuracy: 1.0000\n",
            "Epoch 8/10\n",
            "5/5 [==============================] - 1s 144ms/step - loss: 6.1889e-04 - accuracy: 1.0000 - val_loss: 0.0000e+00 - val_accuracy: 1.0000\n",
            "Epoch 9/10\n",
            "5/5 [==============================] - 1s 143ms/step - loss: 4.9784e-32 - accuracy: 1.0000 - val_loss: 0.0000e+00 - val_accuracy: 1.0000\n",
            "Epoch 10/10\n",
            "5/5 [==============================] - 1s 138ms/step - loss: 0.0000e+00 - accuracy: 1.0000 - val_loss: 0.0000e+00 - val_accuracy: 1.0000\n",
            "1/1 [==============================] - 0s 166ms/step - loss: 9.4700e-25 - accuracy: 1.0000\n",
            "Test Accuracy: 100.00%\n"
          ]
        }
      ]
    },
    {
      "cell_type": "code",
      "source": [
        "from sklearn.metrics import confusion_matrix\n",
        "\n",
        "# Predict on the test set\n",
        "predictions = model.predict(test_images)\n",
        "predicted_labels = (predictions > 0.5).astype(int)\n",
        "\n",
        "# Confusion matrix\n",
        "conf_matrix = confusion_matrix(test_labels, predicted_labels)\n",
        "print(\"Confusion Matrix:\")\n",
        "print(conf_matrix)\n"
      ],
      "metadata": {
        "colab": {
          "base_uri": "https://localhost:8080/"
        },
        "id": "Po9qErDGg3hn",
        "outputId": "a9097ee8-6d1a-42b9-d273-a0788ecb52ce"
      },
      "execution_count": null,
      "outputs": [
        {
          "output_type": "stream",
          "name": "stdout",
          "text": [
            "1/1 [==============================] - 1s 954ms/step\n",
            "Confusion Matrix:\n",
            "[[15  0]\n",
            " [ 0 15]]\n"
          ]
        }
      ]
    },
    {
      "cell_type": "code",
      "source": [
        "from tensorflow.keras.applications import InceptionV3\n",
        "from tensorflow.keras.models import Sequential\n",
        "from tensorflow.keras.layers import Dense, GlobalAveragePooling2D\n",
        "from tensorflow.keras.optimizers import Adam\n",
        "\n",
        "# Load the InceptionV3 model\n",
        "base_model = InceptionV3(weights='imagenet', include_top=False, input_shape=(256, 256, 3))\n",
        "\n",
        "# Freeze the pre-trained layers\n",
        "base_model.trainable = False\n",
        "\n",
        "# Create a new model with custom layers on top of InceptionV3\n",
        "model = Sequential([\n",
        "    base_model,\n",
        "    GlobalAveragePooling2D(),\n",
        "    Dense(256, activation='relu'),\n",
        "    Dense(1, activation='sigmoid')\n",
        "])\n",
        "\n",
        "# Compile the model\n",
        "model.compile(optimizer=Adam(learning_rate=0.001), loss='binary_crossentropy', metrics=['accuracy'])\n",
        "\n",
        "# Train the model\n",
        "history = model.fit(train_images, train_labels, epochs=10, validation_data=(val_images, val_labels), batch_size=32)\n",
        "\n",
        "# Evaluate on the test set\n",
        "test_loss, test_accuracy = model.evaluate(test_images, test_labels)\n",
        "print(f\"Test Accuracy: {test_accuracy*100:.2f}%\")"
      ],
      "metadata": {
        "colab": {
          "base_uri": "https://localhost:8080/"
        },
        "id": "cNhGtr2YhNTk",
        "outputId": "e6ffa8e3-b5e9-48ad-c803-5558b99bfa8f"
      },
      "execution_count": null,
      "outputs": [
        {
          "output_type": "stream",
          "name": "stdout",
          "text": [
            "Downloading data from https://storage.googleapis.com/tensorflow/keras-applications/inception_v3/inception_v3_weights_tf_dim_ordering_tf_kernels_notop.h5\n",
            "87910968/87910968 [==============================] - 3s 0us/step\n",
            "Epoch 1/10\n",
            "5/5 [==============================] - 17s 2s/step - loss: 3.3619 - accuracy: 0.5357 - val_loss: 2.1720 - val_accuracy: 0.8333\n",
            "Epoch 2/10\n",
            "5/5 [==============================] - 1s 108ms/step - loss: 2.3242 - accuracy: 0.8000 - val_loss: 0.0597 - val_accuracy: 0.9667\n",
            "Epoch 3/10\n",
            "5/5 [==============================] - 1s 116ms/step - loss: 0.9826 - accuracy: 0.8500 - val_loss: 0.3972 - val_accuracy: 0.8667\n",
            "Epoch 4/10\n",
            "5/5 [==============================] - 1s 108ms/step - loss: 0.5306 - accuracy: 0.9143 - val_loss: 0.4468 - val_accuracy: 0.9000\n",
            "Epoch 5/10\n",
            "5/5 [==============================] - 1s 109ms/step - loss: 0.4745 - accuracy: 0.9000 - val_loss: 0.0975 - val_accuracy: 0.9333\n",
            "Epoch 6/10\n",
            "5/5 [==============================] - 1s 111ms/step - loss: 0.2078 - accuracy: 0.9500 - val_loss: 0.2233 - val_accuracy: 0.9333\n",
            "Epoch 7/10\n",
            "5/5 [==============================] - 1s 121ms/step - loss: 0.1304 - accuracy: 0.9429 - val_loss: 0.1313 - val_accuracy: 0.9333\n",
            "Epoch 8/10\n",
            "5/5 [==============================] - 1s 109ms/step - loss: 0.0545 - accuracy: 0.9714 - val_loss: 0.0868 - val_accuracy: 0.9667\n",
            "Epoch 9/10\n",
            "5/5 [==============================] - 1s 116ms/step - loss: 0.0438 - accuracy: 0.9857 - val_loss: 0.0913 - val_accuracy: 0.9667\n",
            "Epoch 10/10\n",
            "5/5 [==============================] - 0s 96ms/step - loss: 0.0217 - accuracy: 1.0000 - val_loss: 0.0458 - val_accuracy: 0.9667\n",
            "1/1 [==============================] - 0s 155ms/step - loss: 0.1596 - accuracy: 0.9000\n",
            "Test Accuracy: 90.00%\n"
          ]
        }
      ]
    },
    {
      "cell_type": "code",
      "source": [
        "from sklearn.metrics import accuracy_score, precision_score, recall_score, f1_score, confusion_matrix\n",
        "\n",
        "# Predict on the test set\n",
        "predictions = model.predict(test_images)\n",
        "predicted_labels = (predictions > 0.5).astype(int)\n",
        "\n",
        "# Calculate metrics\n",
        "accuracy = accuracy_score(test_labels, predicted_labels)\n",
        "precision = precision_score(test_labels, predicted_labels)\n",
        "recall = recall_score(test_labels, predicted_labels)\n",
        "f1 = f1_score(test_labels, predicted_labels)\n",
        "\n",
        "# Confusion matrix\n",
        "conf_matrix = confusion_matrix(test_labels, predicted_labels)\n",
        "\n",
        "# Calculate specificity\n",
        "specificity = conf_matrix[0, 0] / (conf_matrix[0, 0] + conf_matrix[0, 1])\n",
        "\n",
        "# Print the metrics\n",
        "print(f\"Accuracy: {accuracy*100:.2f}%\")\n",
        "print(f\"Precision: {precision*100:.2f}%\")\n",
        "print(f\"Recall (Sensitivity): {recall*100:.2f}%\")\n",
        "print(f\"F1 Score: {f1*100:.2f}%\")\n",
        "print(f\"Specificity: {specificity*100:.2f}%\")\n",
        "print(\"Confusion Matrix:\")\n",
        "print(conf_matrix)"
      ],
      "metadata": {
        "colab": {
          "base_uri": "https://localhost:8080/"
        },
        "id": "jEgCJd7jhjKr",
        "outputId": "724d18ac-d92f-40c3-e413-de711d2dbc69"
      },
      "execution_count": null,
      "outputs": [
        {
          "output_type": "stream",
          "name": "stdout",
          "text": [
            "1/1 [==============================] - 1s 1s/step\n",
            "Accuracy: 90.00%\n",
            "Precision: 92.86%\n",
            "Recall (Sensitivity): 86.67%\n",
            "F1 Score: 89.66%\n",
            "Specificity: 93.33%\n",
            "Confusion Matrix:\n",
            "[[14  1]\n",
            " [ 2 13]]\n"
          ]
        }
      ]
    },
    {
      "cell_type": "code",
      "source": [
        "from tensorflow.keras.applications import MobileNetV2\n",
        "from tensorflow.keras.models import Sequential\n",
        "from tensorflow.keras.layers import Dense, GlobalAveragePooling2D\n",
        "from tensorflow.keras.optimizers import Adam\n",
        "\n",
        "# Load the MobileNetV2 model\n",
        "base_model = MobileNetV2(weights='imagenet', include_top=False, input_shape=(256, 256, 3))\n",
        "\n",
        "# Freeze the pre-trained layers\n",
        "base_model.trainable = False\n",
        "\n",
        "# Create a new model with custom layers on top of MobileNetV2\n",
        "model = Sequential([\n",
        "    base_model,\n",
        "    GlobalAveragePooling2D(),\n",
        "    Dense(256, activation='relu'),\n",
        "    Dense(1, activation='sigmoid')\n",
        "])\n",
        "\n",
        "# Compile the model\n",
        "model.compile(optimizer=Adam(learning_rate=0.001), loss='binary_crossentropy', metrics=['accuracy'])\n",
        "\n",
        "# Train the model\n",
        "history = model.fit(train_images, train_labels, epochs=10, validation_data=(val_images, val_labels), batch_size=32)\n",
        "\n",
        "# Evaluate on the test set\n",
        "test_loss, test_accuracy = model.evaluate(test_images, test_labels)\n",
        "print(f\"Test Accuracy: {test_accuracy*100:.2f}%\")"
      ],
      "metadata": {
        "colab": {
          "base_uri": "https://localhost:8080/"
        },
        "id": "bUrcG6YdhxML",
        "outputId": "071d8782-c4ea-4d62-d2e4-d2c74f3a6252"
      },
      "execution_count": null,
      "outputs": [
        {
          "output_type": "stream",
          "name": "stderr",
          "text": [
            "WARNING:tensorflow:`input_shape` is undefined or non-square, or `rows` is not in [96, 128, 160, 192, 224]. Weights for input shape (224, 224) will be loaded as the default.\n"
          ]
        },
        {
          "output_type": "stream",
          "name": "stdout",
          "text": [
            "Downloading data from https://storage.googleapis.com/tensorflow/keras-applications/mobilenet_v2/mobilenet_v2_weights_tf_dim_ordering_tf_kernels_1.0_224_no_top.h5\n",
            "9406464/9406464 [==============================] - 1s 0us/step\n",
            "Epoch 1/10\n",
            "5/5 [==============================] - 7s 824ms/step - loss: 0.3287 - accuracy: 0.8214 - val_loss: 0.0707 - val_accuracy: 0.9667\n",
            "Epoch 2/10\n",
            "5/5 [==============================] - 0s 72ms/step - loss: 0.0864 - accuracy: 0.9643 - val_loss: 0.0307 - val_accuracy: 1.0000\n",
            "Epoch 3/10\n",
            "5/5 [==============================] - 0s 73ms/step - loss: 0.0551 - accuracy: 0.9714 - val_loss: 0.0338 - val_accuracy: 0.9667\n",
            "Epoch 4/10\n",
            "5/5 [==============================] - 0s 68ms/step - loss: 0.0295 - accuracy: 0.9929 - val_loss: 0.0522 - val_accuracy: 0.9667\n",
            "Epoch 5/10\n",
            "5/5 [==============================] - 0s 68ms/step - loss: 0.0174 - accuracy: 1.0000 - val_loss: 0.0464 - val_accuracy: 0.9667\n",
            "Epoch 6/10\n",
            "5/5 [==============================] - 0s 68ms/step - loss: 0.0110 - accuracy: 1.0000 - val_loss: 0.0417 - val_accuracy: 0.9667\n",
            "Epoch 7/10\n",
            "5/5 [==============================] - 0s 65ms/step - loss: 0.0089 - accuracy: 1.0000 - val_loss: 0.0419 - val_accuracy: 0.9667\n",
            "Epoch 8/10\n",
            "5/5 [==============================] - 0s 69ms/step - loss: 0.0064 - accuracy: 1.0000 - val_loss: 0.0498 - val_accuracy: 0.9667\n",
            "Epoch 9/10\n",
            "5/5 [==============================] - 0s 65ms/step - loss: 0.0048 - accuracy: 1.0000 - val_loss: 0.0542 - val_accuracy: 0.9667\n",
            "Epoch 10/10\n",
            "5/5 [==============================] - 0s 66ms/step - loss: 0.0040 - accuracy: 1.0000 - val_loss: 0.0493 - val_accuracy: 0.9667\n",
            "1/1 [==============================] - 0s 70ms/step - loss: 0.4473 - accuracy: 0.9333\n",
            "Test Accuracy: 93.33%\n"
          ]
        }
      ]
    },
    {
      "cell_type": "code",
      "source": [
        "from sklearn.metrics import accuracy_score, precision_score, recall_score, f1_score, confusion_matrix\n",
        "\n",
        "# Predict on the test set\n",
        "predictions = model.predict(test_images)\n",
        "predicted_labels = (predictions > 0.5).astype(int)\n",
        "\n",
        "# Calculate metrics\n",
        "accuracy = accuracy_score(test_labels, predicted_labels)\n",
        "precision = precision_score(test_labels, predicted_labels)\n",
        "recall = recall_score(test_labels, predicted_labels)\n",
        "f1 = f1_score(test_labels, predicted_labels)\n",
        "\n",
        "# Confusion matrix\n",
        "conf_matrix = confusion_matrix(test_labels, predicted_labels)\n",
        "\n",
        "# Calculate specificity\n",
        "specificity = conf_matrix[0, 0] / (conf_matrix[0, 0] + conf_matrix[0, 1])\n",
        "\n",
        "# Print the metrics\n",
        "print(f\"Accuracy: {accuracy*100:.2f}%\")\n",
        "print(f\"Precision: {precision*100:.2f}%\")\n",
        "print(f\"Recall (Sensitivity): {recall*100:.2f}%\")\n",
        "print(f\"F1 Score: {f1*100:.2f}%\")\n",
        "print(f\"Specificity: {specificity*100:.2f}%\")\n",
        "print(\"Confusion Matrix:\")\n",
        "print(conf_matrix)"
      ],
      "metadata": {
        "colab": {
          "base_uri": "https://localhost:8080/"
        },
        "id": "C38x3PLhicDN",
        "outputId": "7033e5a1-3d07-472a-b8cd-0ce3a0716210"
      },
      "execution_count": null,
      "outputs": [
        {
          "output_type": "stream",
          "name": "stderr",
          "text": [
            "WARNING:tensorflow:5 out of the last 7 calls to <function Model.make_predict_function.<locals>.predict_function at 0x7f037fa88820> triggered tf.function retracing. Tracing is expensive and the excessive number of tracings could be due to (1) creating @tf.function repeatedly in a loop, (2) passing tensors with different shapes, (3) passing Python objects instead of tensors. For (1), please define your @tf.function outside of the loop. For (2), @tf.function has reduce_retracing=True option that can avoid unnecessary retracing. For (3), please refer to https://www.tensorflow.org/guide/function#controlling_retracing and https://www.tensorflow.org/api_docs/python/tf/function for  more details.\n"
          ]
        },
        {
          "output_type": "stream",
          "name": "stdout",
          "text": [
            "1/1 [==============================] - 2s 2s/step\n",
            "Accuracy: 93.33%\n",
            "Precision: 88.24%\n",
            "Recall (Sensitivity): 100.00%\n",
            "F1 Score: 93.75%\n",
            "Specificity: 86.67%\n",
            "Confusion Matrix:\n",
            "[[13  2]\n",
            " [ 0 15]]\n"
          ]
        }
      ]
    },
    {
      "cell_type": "code",
      "source": [
        "from tensorflow.keras.applications import Xception\n",
        "from tensorflow.keras.models import Sequential\n",
        "from tensorflow.keras.layers import Dense, GlobalAveragePooling2D\n",
        "from tensorflow.keras.optimizers import Adam\n",
        "\n",
        "# Load the Xception model\n",
        "base_model = Xception(weights='imagenet', include_top=False, input_shape=(256, 256, 3))\n",
        "\n",
        "# Freeze the pre-trained layers\n",
        "base_model.trainable = False\n",
        "\n",
        "# Create a new model with custom layers on top of Xception\n",
        "model = Sequential([\n",
        "    base_model,\n",
        "    GlobalAveragePooling2D(),\n",
        "    Dense(256, activation='relu'),\n",
        "    Dense(1, activation='sigmoid')\n",
        "])\n",
        "\n",
        "# Compile the model\n",
        "model.compile(optimizer=Adam(learning_rate=0.001), loss='binary_crossentropy', metrics=['accuracy'])\n",
        "\n",
        "# Train the model\n",
        "history = model.fit(train_images, train_labels, epochs=10, validation_data=(val_images, val_labels), batch_size=32)\n",
        "\n",
        "# Evaluate on the test set\n",
        "test_loss, test_accuracy = model.evaluate(test_images, test_labels)\n",
        "print(f\"Test Accuracy: {test_accuracy*100:.2f}%\")"
      ],
      "metadata": {
        "colab": {
          "base_uri": "https://localhost:8080/"
        },
        "id": "CtBDGtXNiol1",
        "outputId": "738c626e-b9b2-446c-e2c2-6133ee3dcb6e"
      },
      "execution_count": null,
      "outputs": [
        {
          "output_type": "stream",
          "name": "stdout",
          "text": [
            "Epoch 1/10\n",
            "5/5 [==============================] - 5s 383ms/step - loss: 1.0998 - accuracy: 0.7857 - val_loss: 0.3423 - val_accuracy: 0.9000\n",
            "Epoch 2/10\n",
            "5/5 [==============================] - 1s 214ms/step - loss: 0.4391 - accuracy: 0.8714 - val_loss: 0.0729 - val_accuracy: 0.9667\n",
            "Epoch 3/10\n",
            "5/5 [==============================] - 1s 218ms/step - loss: 0.3019 - accuracy: 0.9143 - val_loss: 0.2218 - val_accuracy: 0.8667\n",
            "Epoch 4/10\n",
            "5/5 [==============================] - 1s 178ms/step - loss: 0.1416 - accuracy: 0.9429 - val_loss: 0.0992 - val_accuracy: 0.9667\n",
            "Epoch 5/10\n",
            "5/5 [==============================] - 1s 177ms/step - loss: 0.1922 - accuracy: 0.9500 - val_loss: 0.0595 - val_accuracy: 0.9667\n",
            "Epoch 6/10\n",
            "5/5 [==============================] - 1s 217ms/step - loss: 0.0879 - accuracy: 0.9857 - val_loss: 0.0716 - val_accuracy: 0.9667\n",
            "Epoch 7/10\n",
            "5/5 [==============================] - 1s 217ms/step - loss: 0.0413 - accuracy: 0.9857 - val_loss: 0.0550 - val_accuracy: 0.9667\n",
            "Epoch 8/10\n",
            "5/5 [==============================] - 1s 220ms/step - loss: 0.0180 - accuracy: 0.9929 - val_loss: 0.1211 - val_accuracy: 0.9333\n",
            "Epoch 9/10\n",
            "5/5 [==============================] - 1s 180ms/step - loss: 0.0061 - accuracy: 1.0000 - val_loss: 0.2044 - val_accuracy: 0.9333\n",
            "Epoch 10/10\n",
            "5/5 [==============================] - 1s 218ms/step - loss: 0.0064 - accuracy: 1.0000 - val_loss: 0.2435 - val_accuracy: 0.9333\n",
            "1/1 [==============================] - 0s 177ms/step - loss: 1.0056 - accuracy: 0.8667\n",
            "Test Accuracy: 86.67%\n"
          ]
        }
      ]
    },
    {
      "cell_type": "code",
      "source": [
        "# Unfreeze the last few layers of the base model\n",
        "base_model.trainable = True\n",
        "fine_tune_at = 100  # Adjust this value based on the layer you want to start fine-tuning\n",
        "for layer in base_model.layers[:fine_tune_at]:\n",
        "    layer.trainable = False\n",
        "\n",
        "# Compile the model with a lower learning rate\n",
        "model.compile(optimizer=Adam(learning_rate=0.0001), loss='binary_crossentropy', metrics=['accuracy'])\n",
        "\n",
        "# Continue training the model\n",
        "history_fine_tune = model.fit(train_images, train_labels, epochs=5, validation_data=(val_images, val_labels), batch_size=32)"
      ],
      "metadata": {
        "colab": {
          "base_uri": "https://localhost:8080/"
        },
        "id": "rzd26hXZjdJ8",
        "outputId": "88ce75d0-f448-4d4d-a577-b821576c10bd"
      },
      "execution_count": null,
      "outputs": [
        {
          "output_type": "stream",
          "name": "stdout",
          "text": [
            "Epoch 1/5\n",
            "5/5 [==============================] - 12s 460ms/step - loss: 0.0851 - accuracy: 0.9643 - val_loss: 2.9657 - val_accuracy: 0.5333\n",
            "Epoch 2/5\n",
            "5/5 [==============================] - 1s 241ms/step - loss: 0.0413 - accuracy: 0.9929 - val_loss: 2.7435 - val_accuracy: 0.5667\n",
            "Epoch 3/5\n",
            "5/5 [==============================] - 1s 242ms/step - loss: 0.0332 - accuracy: 0.9929 - val_loss: 1.7560 - val_accuracy: 0.7000\n",
            "Epoch 4/5\n",
            "5/5 [==============================] - 1s 282ms/step - loss: 0.0305 - accuracy: 0.9929 - val_loss: 1.3021 - val_accuracy: 0.7667\n",
            "Epoch 5/5\n",
            "5/5 [==============================] - 1s 244ms/step - loss: 0.0167 - accuracy: 1.0000 - val_loss: 1.1729 - val_accuracy: 0.8000\n"
          ]
        }
      ]
    },
    {
      "cell_type": "code",
      "source": [
        "from sklearn.metrics import accuracy_score, precision_score, recall_score, f1_score, confusion_matrix\n",
        "\n",
        "# Predict on the test set\n",
        "predictions = model.predict(test_images)\n",
        "predicted_labels = (predictions > 0.5).astype(int)\n",
        "\n",
        "# Calculate metrics\n",
        "accuracy = accuracy_score(test_labels, predicted_labels)\n",
        "precision = precision_score(test_labels, predicted_labels)\n",
        "recall = recall_score(test_labels, predicted_labels)\n",
        "f1 = f1_score(test_labels, predicted_labels)\n",
        "\n",
        "# Confusion matrix\n",
        "conf_matrix = confusion_matrix(test_labels, predicted_labels)\n",
        "\n",
        "# Print the metrics\n",
        "print(f\"Accuracy: {accuracy*100:.2f}%\")\n",
        "print(f\"Precision: {precision*100:.2f}%\")\n",
        "print(f\"Recall (Sensitivity): {recall*100:.2f}%\")\n",
        "print(f\"F1 Score: {f1*100:.2f}%\")\n",
        "print(\"Confusion Matrix:\")\n",
        "print(conf_matrix)"
      ],
      "metadata": {
        "colab": {
          "base_uri": "https://localhost:8080/"
        },
        "id": "ZE9io_zvkrzH",
        "outputId": "6b428c36-bcc5-4d5d-b4a0-a9d4c91d40c5"
      },
      "execution_count": null,
      "outputs": [
        {
          "output_type": "stream",
          "name": "stderr",
          "text": [
            "WARNING:tensorflow:6 out of the last 8 calls to <function Model.make_predict_function.<locals>.predict_function at 0x7f037e6d8700> triggered tf.function retracing. Tracing is expensive and the excessive number of tracings could be due to (1) creating @tf.function repeatedly in a loop, (2) passing tensors with different shapes, (3) passing Python objects instead of tensors. For (1), please define your @tf.function outside of the loop. For (2), @tf.function has reduce_retracing=True option that can avoid unnecessary retracing. For (3), please refer to https://www.tensorflow.org/guide/function#controlling_retracing and https://www.tensorflow.org/api_docs/python/tf/function for  more details.\n"
          ]
        },
        {
          "output_type": "stream",
          "name": "stdout",
          "text": [
            "1/1 [==============================] - 1s 1s/step\n",
            "Accuracy: 100.00%\n",
            "Precision: 100.00%\n",
            "Recall (Sensitivity): 100.00%\n",
            "F1 Score: 100.00%\n",
            "Confusion Matrix:\n",
            "[[15  0]\n",
            " [ 0 15]]\n"
          ]
        }
      ]
    },
    {
      "cell_type": "code",
      "source": [
        "from tensorflow.keras.applications import EfficientNetB0\n",
        "from tensorflow.keras.models import Sequential\n",
        "from tensorflow.keras.layers import Dense, GlobalAveragePooling2D\n",
        "from tensorflow.keras.optimizers import Adam\n",
        "\n",
        "# Load the EfficientNetB0 model\n",
        "base_model = EfficientNetB0(weights='imagenet', include_top=False, input_shape=(256, 256, 3))\n",
        "\n",
        "# Freeze the pre-trained layers\n",
        "base_model.trainable = False\n",
        "\n",
        "# Create a new model with custom layers on top of EfficientNetB0\n",
        "model = Sequential([\n",
        "    base_model,\n",
        "    GlobalAveragePooling2D(),\n",
        "    Dense(256, activation='relu'),\n",
        "    Dense(1, activation='sigmoid')\n",
        "])\n",
        "\n",
        "# Compile the model\n",
        "model.compile(optimizer=Adam(learning_rate=0.001), loss='binary_crossentropy', metrics=['accuracy'])\n",
        "\n",
        "# Train the model\n",
        "history = model.fit(train_images, train_labels, epochs=10, validation_data=(val_images, val_labels), batch_size=32)\n",
        "\n",
        "# Evaluate on the test set\n",
        "test_loss, test_accuracy = model.evaluate(test_images, test_labels)\n",
        "print(f\"Test Accuracy: {test_accuracy*100:.2f}%\")\n"
      ],
      "metadata": {
        "colab": {
          "base_uri": "https://localhost:8080/"
        },
        "id": "aYxm-KD4kXsf",
        "outputId": "da14adf2-be42-4291-ef2e-fa7b5042d4af"
      },
      "execution_count": null,
      "outputs": [
        {
          "output_type": "stream",
          "name": "stdout",
          "text": [
            "Downloading data from https://storage.googleapis.com/keras-applications/efficientnetb0_notop.h5\n",
            "16705208/16705208 [==============================] - 1s 0us/step\n",
            "Epoch 1/10\n",
            "5/5 [==============================] - 11s 759ms/step - loss: 0.5478 - accuracy: 0.6643 - val_loss: 0.2719 - val_accuracy: 0.9333\n",
            "Epoch 2/10\n",
            "5/5 [==============================] - 1s 109ms/step - loss: 0.1859 - accuracy: 0.9786 - val_loss: 0.0851 - val_accuracy: 1.0000\n",
            "Epoch 3/10\n",
            "5/5 [==============================] - 0s 104ms/step - loss: 0.0845 - accuracy: 0.9786 - val_loss: 0.0822 - val_accuracy: 1.0000\n",
            "Epoch 4/10\n",
            "5/5 [==============================] - 0s 102ms/step - loss: 0.0458 - accuracy: 0.9929 - val_loss: 0.0318 - val_accuracy: 1.0000\n",
            "Epoch 5/10\n",
            "5/5 [==============================] - 1s 119ms/step - loss: 0.0268 - accuracy: 1.0000 - val_loss: 0.0247 - val_accuracy: 1.0000\n",
            "Epoch 6/10\n",
            "5/5 [==============================] - 1s 105ms/step - loss: 0.0170 - accuracy: 1.0000 - val_loss: 0.0199 - val_accuracy: 1.0000\n",
            "Epoch 7/10\n",
            "5/5 [==============================] - 1s 118ms/step - loss: 0.0172 - accuracy: 1.0000 - val_loss: 0.0150 - val_accuracy: 1.0000\n",
            "Epoch 8/10\n",
            "5/5 [==============================] - 0s 94ms/step - loss: 0.0076 - accuracy: 1.0000 - val_loss: 0.0128 - val_accuracy: 1.0000\n",
            "Epoch 9/10\n",
            "5/5 [==============================] - 0s 93ms/step - loss: 0.0271 - accuracy: 0.9929 - val_loss: 0.0094 - val_accuracy: 1.0000\n",
            "Epoch 10/10\n",
            "5/5 [==============================] - 0s 90ms/step - loss: 0.0054 - accuracy: 1.0000 - val_loss: 0.0113 - val_accuracy: 1.0000\n",
            "1/1 [==============================] - 0s 93ms/step - loss: 0.0281 - accuracy: 1.0000\n",
            "Test Accuracy: 100.00%\n"
          ]
        }
      ]
    },
    {
      "cell_type": "code",
      "source": [
        "from sklearn.metrics import accuracy_score, precision_score, recall_score, f1_score, confusion_matrix\n",
        "\n",
        "# Predict on the test set\n",
        "predictions = model.predict(test_images)\n",
        "predicted_labels = (predictions > 0.5).astype(int)\n",
        "\n",
        "# Calculate metrics\n",
        "accuracy = accuracy_score(test_labels, predicted_labels)\n",
        "precision = precision_score(test_labels, predicted_labels)\n",
        "recall = recall_score(test_labels, predicted_labels)\n",
        "f1 = f1_score(test_labels, predicted_labels)\n",
        "\n",
        "# Confusion matrix\n",
        "conf_matrix = confusion_matrix(test_labels, predicted_labels)\n",
        "\n",
        "# Print the metrics\n",
        "print(f\"Accuracy: {accuracy*100:.2f}%\")\n",
        "print(f\"Precision: {precision*100:.2f}%\")\n",
        "print(f\"Recall (Sensitivity): {recall*100:.2f}%\")\n",
        "print(f\"F1 Score: {f1*100:.2f}%\")\n",
        "print(\"Confusion Matrix:\")\n",
        "print(conf_matrix)\n"
      ],
      "metadata": {
        "colab": {
          "base_uri": "https://localhost:8080/"
        },
        "id": "n0Vwnhu4k6Kl",
        "outputId": "25fff02c-7c7c-457b-d1fb-8ed79cef3dd2"
      },
      "execution_count": null,
      "outputs": [
        {
          "output_type": "stream",
          "name": "stdout",
          "text": [
            "1/1 [==============================] - 0s 38ms/step\n",
            "Accuracy: 100.00%\n",
            "Precision: 100.00%\n",
            "Recall (Sensitivity): 100.00%\n",
            "F1 Score: 100.00%\n",
            "Confusion Matrix:\n",
            "[[15  0]\n",
            " [ 0 15]]\n"
          ]
        }
      ]
    },
    {
      "cell_type": "code",
      "source": [
        "from tensorflow.keras.applications import DenseNet121\n",
        "from tensorflow.keras.models import Sequential\n",
        "from tensorflow.keras.layers import Dense, GlobalAveragePooling2D\n",
        "from tensorflow.keras.optimizers import Adam\n",
        "\n",
        "# Load the DenseNet121 model\n",
        "base_model = DenseNet121(weights='imagenet', include_top=False, input_shape=(256, 256, 3))\n",
        "\n",
        "# Freeze the pre-trained layers\n",
        "base_model.trainable = False\n",
        "\n",
        "# Create a new model with custom layers on top of DenseNet121\n",
        "model = Sequential([\n",
        "    base_model,\n",
        "    GlobalAveragePooling2D(),\n",
        "    Dense(256, activation='relu'),\n",
        "    Dense(1, activation='sigmoid')\n",
        "])\n",
        "\n",
        "# Compile the model\n",
        "model.compile(optimizer=Adam(learning_rate=0.001), loss='binary_crossentropy', metrics=['accuracy'])\n",
        "\n",
        "# Train the model\n",
        "history = model.fit(train_images, train_labels, epochs=10, validation_data=(val_images, val_labels), batch_size=32)\n",
        "\n",
        "# Evaluate on the test set\n",
        "test_loss, test_accuracy = model.evaluate(test_images, test_labels)\n",
        "print(f\"Test Accuracy: {test_accuracy*100:.2f}%\")\n"
      ],
      "metadata": {
        "colab": {
          "base_uri": "https://localhost:8080/"
        },
        "id": "fNgVOFkJlD4x",
        "outputId": "ec62cddf-e965-41ed-db48-8663fb9252d9"
      },
      "execution_count": null,
      "outputs": [
        {
          "output_type": "stream",
          "name": "stdout",
          "text": [
            "Downloading data from https://storage.googleapis.com/tensorflow/keras-applications/densenet/densenet121_weights_tf_dim_ordering_tf_kernels_notop.h5\n",
            "29084464/29084464 [==============================] - 2s 0us/step\n",
            "Epoch 1/10\n",
            "5/5 [==============================] - 20s 2s/step - loss: 1.3121 - accuracy: 0.6357 - val_loss: 0.3560 - val_accuracy: 0.9333\n",
            "Epoch 2/10\n",
            "5/5 [==============================] - 1s 138ms/step - loss: 0.3702 - accuracy: 0.9143 - val_loss: 0.2504 - val_accuracy: 0.9667\n",
            "Epoch 3/10\n",
            "5/5 [==============================] - 1s 126ms/step - loss: 0.0538 - accuracy: 0.9786 - val_loss: 0.3605 - val_accuracy: 0.9667\n",
            "Epoch 4/10\n",
            "5/5 [==============================] - 1s 148ms/step - loss: 0.0511 - accuracy: 0.9786 - val_loss: 0.2999 - val_accuracy: 0.9667\n",
            "Epoch 5/10\n",
            "5/5 [==============================] - 1s 140ms/step - loss: 0.0149 - accuracy: 0.9929 - val_loss: 0.1629 - val_accuracy: 0.9667\n",
            "Epoch 6/10\n",
            "5/5 [==============================] - 1s 135ms/step - loss: 0.0024 - accuracy: 1.0000 - val_loss: 0.0736 - val_accuracy: 0.9667\n",
            "Epoch 7/10\n",
            "5/5 [==============================] - 1s 149ms/step - loss: 0.0038 - accuracy: 1.0000 - val_loss: 0.0478 - val_accuracy: 0.9667\n",
            "Epoch 8/10\n",
            "5/5 [==============================] - 1s 139ms/step - loss: 0.0028 - accuracy: 1.0000 - val_loss: 0.0525 - val_accuracy: 0.9667\n",
            "Epoch 9/10\n",
            "5/5 [==============================] - 1s 127ms/step - loss: 0.0015 - accuracy: 1.0000 - val_loss: 0.0682 - val_accuracy: 0.9667\n",
            "Epoch 10/10\n",
            "5/5 [==============================] - 1s 124ms/step - loss: 8.5902e-04 - accuracy: 1.0000 - val_loss: 0.0779 - val_accuracy: 0.9667\n",
            "1/1 [==============================] - 0s 124ms/step - loss: 0.1019 - accuracy: 0.9667\n",
            "Test Accuracy: 96.67%\n"
          ]
        }
      ]
    },
    {
      "cell_type": "code",
      "source": [
        "from google.colab import files\n",
        "import io\n",
        "\n",
        "# Upload the image file using the file upload widget\n",
        "uploaded = files.upload()\n",
        "\n",
        "# Get the file path of the uploaded image\n",
        "new_image_path = next(iter(uploaded))\n",
        "\n",
        "# Read the image using OpenCV\n",
        "new_image = cv2.imdecode(np.frombuffer(uploaded[new_image_path], np.uint8), -1)\n",
        "\n",
        "# Resize and preprocess the image\n",
        "new_image = cv2.resize(new_image, (256, 256))\n",
        "new_image = new_image / 255.0\n",
        "new_image = np.expand_dims(new_image, axis=0)\n",
        "\n",
        "# Make predictions using the existing model object\n",
        "predictions = model.predict(new_image)\n",
        "\n",
        "# Thresholding (binary classification)\n",
        "threshold = 0.5\n",
        "predicted_class = 1 if predictions[0, 0] >= threshold else 0\n",
        "\n",
        "# Display the results\n",
        "print(f\"Predicted Probability: {predictions[0, 0]:.4f}\")\n",
        "print(f\"Predicted Class: {predicted_class}\")"
      ],
      "metadata": {
        "colab": {
          "base_uri": "https://localhost:8080/",
          "height": 125
        },
        "id": "dlCISynzpsje",
        "outputId": "ff1779aa-d5ea-4900-ede6-7f6a5e29add1"
      },
      "execution_count": null,
      "outputs": [
        {
          "output_type": "display_data",
          "data": {
            "text/plain": [
              "<IPython.core.display.HTML object>"
            ],
            "text/html": [
              "\n",
              "     <input type=\"file\" id=\"files-6fe602e3-1075-4e86-a4a7-13a75cc660f2\" name=\"files[]\" multiple disabled\n",
              "        style=\"border:none\" />\n",
              "     <output id=\"result-6fe602e3-1075-4e86-a4a7-13a75cc660f2\">\n",
              "      Upload widget is only available when the cell has been executed in the\n",
              "      current browser session. Please rerun this cell to enable.\n",
              "      </output>\n",
              "      <script>// Copyright 2017 Google LLC\n",
              "//\n",
              "// Licensed under the Apache License, Version 2.0 (the \"License\");\n",
              "// you may not use this file except in compliance with the License.\n",
              "// You may obtain a copy of the License at\n",
              "//\n",
              "//      http://www.apache.org/licenses/LICENSE-2.0\n",
              "//\n",
              "// Unless required by applicable law or agreed to in writing, software\n",
              "// distributed under the License is distributed on an \"AS IS\" BASIS,\n",
              "// WITHOUT WARRANTIES OR CONDITIONS OF ANY KIND, either express or implied.\n",
              "// See the License for the specific language governing permissions and\n",
              "// limitations under the License.\n",
              "\n",
              "/**\n",
              " * @fileoverview Helpers for google.colab Python module.\n",
              " */\n",
              "(function(scope) {\n",
              "function span(text, styleAttributes = {}) {\n",
              "  const element = document.createElement('span');\n",
              "  element.textContent = text;\n",
              "  for (const key of Object.keys(styleAttributes)) {\n",
              "    element.style[key] = styleAttributes[key];\n",
              "  }\n",
              "  return element;\n",
              "}\n",
              "\n",
              "// Max number of bytes which will be uploaded at a time.\n",
              "const MAX_PAYLOAD_SIZE = 100 * 1024;\n",
              "\n",
              "function _uploadFiles(inputId, outputId) {\n",
              "  const steps = uploadFilesStep(inputId, outputId);\n",
              "  const outputElement = document.getElementById(outputId);\n",
              "  // Cache steps on the outputElement to make it available for the next call\n",
              "  // to uploadFilesContinue from Python.\n",
              "  outputElement.steps = steps;\n",
              "\n",
              "  return _uploadFilesContinue(outputId);\n",
              "}\n",
              "\n",
              "// This is roughly an async generator (not supported in the browser yet),\n",
              "// where there are multiple asynchronous steps and the Python side is going\n",
              "// to poll for completion of each step.\n",
              "// This uses a Promise to block the python side on completion of each step,\n",
              "// then passes the result of the previous step as the input to the next step.\n",
              "function _uploadFilesContinue(outputId) {\n",
              "  const outputElement = document.getElementById(outputId);\n",
              "  const steps = outputElement.steps;\n",
              "\n",
              "  const next = steps.next(outputElement.lastPromiseValue);\n",
              "  return Promise.resolve(next.value.promise).then((value) => {\n",
              "    // Cache the last promise value to make it available to the next\n",
              "    // step of the generator.\n",
              "    outputElement.lastPromiseValue = value;\n",
              "    return next.value.response;\n",
              "  });\n",
              "}\n",
              "\n",
              "/**\n",
              " * Generator function which is called between each async step of the upload\n",
              " * process.\n",
              " * @param {string} inputId Element ID of the input file picker element.\n",
              " * @param {string} outputId Element ID of the output display.\n",
              " * @return {!Iterable<!Object>} Iterable of next steps.\n",
              " */\n",
              "function* uploadFilesStep(inputId, outputId) {\n",
              "  const inputElement = document.getElementById(inputId);\n",
              "  inputElement.disabled = false;\n",
              "\n",
              "  const outputElement = document.getElementById(outputId);\n",
              "  outputElement.innerHTML = '';\n",
              "\n",
              "  const pickedPromise = new Promise((resolve) => {\n",
              "    inputElement.addEventListener('change', (e) => {\n",
              "      resolve(e.target.files);\n",
              "    });\n",
              "  });\n",
              "\n",
              "  const cancel = document.createElement('button');\n",
              "  inputElement.parentElement.appendChild(cancel);\n",
              "  cancel.textContent = 'Cancel upload';\n",
              "  const cancelPromise = new Promise((resolve) => {\n",
              "    cancel.onclick = () => {\n",
              "      resolve(null);\n",
              "    };\n",
              "  });\n",
              "\n",
              "  // Wait for the user to pick the files.\n",
              "  const files = yield {\n",
              "    promise: Promise.race([pickedPromise, cancelPromise]),\n",
              "    response: {\n",
              "      action: 'starting',\n",
              "    }\n",
              "  };\n",
              "\n",
              "  cancel.remove();\n",
              "\n",
              "  // Disable the input element since further picks are not allowed.\n",
              "  inputElement.disabled = true;\n",
              "\n",
              "  if (!files) {\n",
              "    return {\n",
              "      response: {\n",
              "        action: 'complete',\n",
              "      }\n",
              "    };\n",
              "  }\n",
              "\n",
              "  for (const file of files) {\n",
              "    const li = document.createElement('li');\n",
              "    li.append(span(file.name, {fontWeight: 'bold'}));\n",
              "    li.append(span(\n",
              "        `(${file.type || 'n/a'}) - ${file.size} bytes, ` +\n",
              "        `last modified: ${\n",
              "            file.lastModifiedDate ? file.lastModifiedDate.toLocaleDateString() :\n",
              "                                    'n/a'} - `));\n",
              "    const percent = span('0% done');\n",
              "    li.appendChild(percent);\n",
              "\n",
              "    outputElement.appendChild(li);\n",
              "\n",
              "    const fileDataPromise = new Promise((resolve) => {\n",
              "      const reader = new FileReader();\n",
              "      reader.onload = (e) => {\n",
              "        resolve(e.target.result);\n",
              "      };\n",
              "      reader.readAsArrayBuffer(file);\n",
              "    });\n",
              "    // Wait for the data to be ready.\n",
              "    let fileData = yield {\n",
              "      promise: fileDataPromise,\n",
              "      response: {\n",
              "        action: 'continue',\n",
              "      }\n",
              "    };\n",
              "\n",
              "    // Use a chunked sending to avoid message size limits. See b/62115660.\n",
              "    let position = 0;\n",
              "    do {\n",
              "      const length = Math.min(fileData.byteLength - position, MAX_PAYLOAD_SIZE);\n",
              "      const chunk = new Uint8Array(fileData, position, length);\n",
              "      position += length;\n",
              "\n",
              "      const base64 = btoa(String.fromCharCode.apply(null, chunk));\n",
              "      yield {\n",
              "        response: {\n",
              "          action: 'append',\n",
              "          file: file.name,\n",
              "          data: base64,\n",
              "        },\n",
              "      };\n",
              "\n",
              "      let percentDone = fileData.byteLength === 0 ?\n",
              "          100 :\n",
              "          Math.round((position / fileData.byteLength) * 100);\n",
              "      percent.textContent = `${percentDone}% done`;\n",
              "\n",
              "    } while (position < fileData.byteLength);\n",
              "  }\n",
              "\n",
              "  // All done.\n",
              "  yield {\n",
              "    response: {\n",
              "      action: 'complete',\n",
              "    }\n",
              "  };\n",
              "}\n",
              "\n",
              "scope.google = scope.google || {};\n",
              "scope.google.colab = scope.google.colab || {};\n",
              "scope.google.colab._files = {\n",
              "  _uploadFiles,\n",
              "  _uploadFilesContinue,\n",
              "};\n",
              "})(self);\n",
              "</script> "
            ]
          },
          "metadata": {}
        },
        {
          "output_type": "stream",
          "name": "stdout",
          "text": [
            "Saving IMG_0949.JPG to IMG_0949.JPG\n",
            "1/1 [==============================] - 2s 2s/step\n",
            "Predicted Probability: 0.0361\n",
            "Predicted Class: 0\n"
          ]
        }
      ]
    },
    {
      "cell_type": "code",
      "source": [
        "from google.colab import files\n",
        "import io\n",
        "\n",
        "# Upload the image file using the file upload widget\n",
        "uploaded = files.upload()\n",
        "\n",
        "# Get the file path of the uploaded image\n",
        "new_image_path = next(iter(uploaded))\n",
        "\n",
        "# Read the image using OpenCV\n",
        "new_image = cv2.imdecode(np.frombuffer(uploaded[new_image_path], np.uint8), -1)\n",
        "\n",
        "# Resize and preprocess the image\n",
        "new_image = cv2.resize(new_image, (256, 256))\n",
        "new_image = new_image / 255.0\n",
        "new_image = np.expand_dims(new_image, axis=0)\n",
        "\n",
        "# Make predictions using the existing model object\n",
        "predictions = model.predict(new_image)\n",
        "\n",
        "# Thresholding (binary classification)\n",
        "threshold = 0.5\n",
        "predicted_class = 1 if predictions[0, 0] >= threshold else 0\n",
        "\n",
        "# Display the results\n",
        "print(f\"Predicted Probability: {predictions[0, 0]:.4f}\")\n",
        "print(f\"Predicted Class: {predicted_class}\")\n"
      ],
      "metadata": {
        "colab": {
          "base_uri": "https://localhost:8080/",
          "height": 125
        },
        "id": "E3TKl92Iq90T",
        "outputId": "745178f2-2ce8-45e5-ee3d-faf4735ea736"
      },
      "execution_count": null,
      "outputs": [
        {
          "output_type": "display_data",
          "data": {
            "text/plain": [
              "<IPython.core.display.HTML object>"
            ],
            "text/html": [
              "\n",
              "     <input type=\"file\" id=\"files-95a4a80f-0a7c-4bae-bc68-79c51e652320\" name=\"files[]\" multiple disabled\n",
              "        style=\"border:none\" />\n",
              "     <output id=\"result-95a4a80f-0a7c-4bae-bc68-79c51e652320\">\n",
              "      Upload widget is only available when the cell has been executed in the\n",
              "      current browser session. Please rerun this cell to enable.\n",
              "      </output>\n",
              "      <script>// Copyright 2017 Google LLC\n",
              "//\n",
              "// Licensed under the Apache License, Version 2.0 (the \"License\");\n",
              "// you may not use this file except in compliance with the License.\n",
              "// You may obtain a copy of the License at\n",
              "//\n",
              "//      http://www.apache.org/licenses/LICENSE-2.0\n",
              "//\n",
              "// Unless required by applicable law or agreed to in writing, software\n",
              "// distributed under the License is distributed on an \"AS IS\" BASIS,\n",
              "// WITHOUT WARRANTIES OR CONDITIONS OF ANY KIND, either express or implied.\n",
              "// See the License for the specific language governing permissions and\n",
              "// limitations under the License.\n",
              "\n",
              "/**\n",
              " * @fileoverview Helpers for google.colab Python module.\n",
              " */\n",
              "(function(scope) {\n",
              "function span(text, styleAttributes = {}) {\n",
              "  const element = document.createElement('span');\n",
              "  element.textContent = text;\n",
              "  for (const key of Object.keys(styleAttributes)) {\n",
              "    element.style[key] = styleAttributes[key];\n",
              "  }\n",
              "  return element;\n",
              "}\n",
              "\n",
              "// Max number of bytes which will be uploaded at a time.\n",
              "const MAX_PAYLOAD_SIZE = 100 * 1024;\n",
              "\n",
              "function _uploadFiles(inputId, outputId) {\n",
              "  const steps = uploadFilesStep(inputId, outputId);\n",
              "  const outputElement = document.getElementById(outputId);\n",
              "  // Cache steps on the outputElement to make it available for the next call\n",
              "  // to uploadFilesContinue from Python.\n",
              "  outputElement.steps = steps;\n",
              "\n",
              "  return _uploadFilesContinue(outputId);\n",
              "}\n",
              "\n",
              "// This is roughly an async generator (not supported in the browser yet),\n",
              "// where there are multiple asynchronous steps and the Python side is going\n",
              "// to poll for completion of each step.\n",
              "// This uses a Promise to block the python side on completion of each step,\n",
              "// then passes the result of the previous step as the input to the next step.\n",
              "function _uploadFilesContinue(outputId) {\n",
              "  const outputElement = document.getElementById(outputId);\n",
              "  const steps = outputElement.steps;\n",
              "\n",
              "  const next = steps.next(outputElement.lastPromiseValue);\n",
              "  return Promise.resolve(next.value.promise).then((value) => {\n",
              "    // Cache the last promise value to make it available to the next\n",
              "    // step of the generator.\n",
              "    outputElement.lastPromiseValue = value;\n",
              "    return next.value.response;\n",
              "  });\n",
              "}\n",
              "\n",
              "/**\n",
              " * Generator function which is called between each async step of the upload\n",
              " * process.\n",
              " * @param {string} inputId Element ID of the input file picker element.\n",
              " * @param {string} outputId Element ID of the output display.\n",
              " * @return {!Iterable<!Object>} Iterable of next steps.\n",
              " */\n",
              "function* uploadFilesStep(inputId, outputId) {\n",
              "  const inputElement = document.getElementById(inputId);\n",
              "  inputElement.disabled = false;\n",
              "\n",
              "  const outputElement = document.getElementById(outputId);\n",
              "  outputElement.innerHTML = '';\n",
              "\n",
              "  const pickedPromise = new Promise((resolve) => {\n",
              "    inputElement.addEventListener('change', (e) => {\n",
              "      resolve(e.target.files);\n",
              "    });\n",
              "  });\n",
              "\n",
              "  const cancel = document.createElement('button');\n",
              "  inputElement.parentElement.appendChild(cancel);\n",
              "  cancel.textContent = 'Cancel upload';\n",
              "  const cancelPromise = new Promise((resolve) => {\n",
              "    cancel.onclick = () => {\n",
              "      resolve(null);\n",
              "    };\n",
              "  });\n",
              "\n",
              "  // Wait for the user to pick the files.\n",
              "  const files = yield {\n",
              "    promise: Promise.race([pickedPromise, cancelPromise]),\n",
              "    response: {\n",
              "      action: 'starting',\n",
              "    }\n",
              "  };\n",
              "\n",
              "  cancel.remove();\n",
              "\n",
              "  // Disable the input element since further picks are not allowed.\n",
              "  inputElement.disabled = true;\n",
              "\n",
              "  if (!files) {\n",
              "    return {\n",
              "      response: {\n",
              "        action: 'complete',\n",
              "      }\n",
              "    };\n",
              "  }\n",
              "\n",
              "  for (const file of files) {\n",
              "    const li = document.createElement('li');\n",
              "    li.append(span(file.name, {fontWeight: 'bold'}));\n",
              "    li.append(span(\n",
              "        `(${file.type || 'n/a'}) - ${file.size} bytes, ` +\n",
              "        `last modified: ${\n",
              "            file.lastModifiedDate ? file.lastModifiedDate.toLocaleDateString() :\n",
              "                                    'n/a'} - `));\n",
              "    const percent = span('0% done');\n",
              "    li.appendChild(percent);\n",
              "\n",
              "    outputElement.appendChild(li);\n",
              "\n",
              "    const fileDataPromise = new Promise((resolve) => {\n",
              "      const reader = new FileReader();\n",
              "      reader.onload = (e) => {\n",
              "        resolve(e.target.result);\n",
              "      };\n",
              "      reader.readAsArrayBuffer(file);\n",
              "    });\n",
              "    // Wait for the data to be ready.\n",
              "    let fileData = yield {\n",
              "      promise: fileDataPromise,\n",
              "      response: {\n",
              "        action: 'continue',\n",
              "      }\n",
              "    };\n",
              "\n",
              "    // Use a chunked sending to avoid message size limits. See b/62115660.\n",
              "    let position = 0;\n",
              "    do {\n",
              "      const length = Math.min(fileData.byteLength - position, MAX_PAYLOAD_SIZE);\n",
              "      const chunk = new Uint8Array(fileData, position, length);\n",
              "      position += length;\n",
              "\n",
              "      const base64 = btoa(String.fromCharCode.apply(null, chunk));\n",
              "      yield {\n",
              "        response: {\n",
              "          action: 'append',\n",
              "          file: file.name,\n",
              "          data: base64,\n",
              "        },\n",
              "      };\n",
              "\n",
              "      let percentDone = fileData.byteLength === 0 ?\n",
              "          100 :\n",
              "          Math.round((position / fileData.byteLength) * 100);\n",
              "      percent.textContent = `${percentDone}% done`;\n",
              "\n",
              "    } while (position < fileData.byteLength);\n",
              "  }\n",
              "\n",
              "  // All done.\n",
              "  yield {\n",
              "    response: {\n",
              "      action: 'complete',\n",
              "    }\n",
              "  };\n",
              "}\n",
              "\n",
              "scope.google = scope.google || {};\n",
              "scope.google.colab = scope.google.colab || {};\n",
              "scope.google.colab._files = {\n",
              "  _uploadFiles,\n",
              "  _uploadFilesContinue,\n",
              "};\n",
              "})(self);\n",
              "</script> "
            ]
          },
          "metadata": {}
        },
        {
          "output_type": "stream",
          "name": "stdout",
          "text": [
            "Saving IMG_1442.JPG to IMG_1442.JPG\n",
            "1/1 [==============================] - 0s 43ms/step\n",
            "Predicted Probability: 0.0556\n",
            "Predicted Class: 0\n"
          ]
        }
      ]
    }
  ]
}
